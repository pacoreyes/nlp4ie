{
 "cells": [
  {
   "cell_type": "code",
   "execution_count": 2,
   "id": "initial_id",
   "metadata": {
    "collapsed": true,
    "ExecuteTime": {
     "end_time": "2024-02-22T10:57:02.740359Z",
     "start_time": "2024-02-22T10:56:53.177466Z"
    }
   },
   "outputs": [
    {
     "name": "stdout",
     "output_type": "stream",
     "text": [
      "Loading data from shared_data/dataset_2_6_2b.jsonl...\n",
      "Loaded 3566 items.\n",
      "\n",
      "Using device: MPS\n",
      "\n",
      "• Loading BERT Tokenizer...\n",
      "• Loading Pre-trained Model...\n"
     ]
    },
    {
     "name": "stderr",
     "output_type": "stream",
     "text": [
      "Some weights of the model checkpoint at bert-base-uncased were not used when initializing BertForSequenceClassification: ['cls.predictions.transform.LayerNorm.weight', 'cls.seq_relationship.bias', 'cls.predictions.transform.dense.weight', 'cls.predictions.transform.dense.bias', 'cls.seq_relationship.weight', 'cls.predictions.transform.LayerNorm.bias', 'cls.predictions.bias']\n",
      "- This IS expected if you are initializing BertForSequenceClassification from the checkpoint of a model trained on another task or with another architecture (e.g. initializing a BertForSequenceClassification model from a BertForPreTraining model).\n",
      "- This IS NOT expected if you are initializing BertForSequenceClassification from the checkpoint of a model that you expect to be exactly identical (initializing a BertForSequenceClassification model from a BertForSequenceClassification model).\n",
      "Some weights of BertForSequenceClassification were not initialized from the model checkpoint at bert-base-uncased and are newly initialized: ['classifier.weight', 'classifier.bias']\n",
      "You should probably TRAIN this model on a down-stream task to be able to use it for predictions and inference.\n"
     ]
    },
    {
     "name": "stdout",
     "output_type": "stream",
     "text": [
      "• Loading Saved Weights...\n"
     ]
    },
    {
     "name": "stderr",
     "output_type": "stream",
     "text": [
      "Generating Explanations: 100%|██████████| 1/1 [00:03<00:00,  3.85s/it]"
     ]
    },
    {
     "name": "stdout",
     "output_type": "stream",
     "text": [
      "True class: continue\n"
     ]
    },
    {
     "name": "stderr",
     "output_type": "stream",
     "text": [
      "\n"
     ]
    }
   ],
   "source": [
    "import os\n",
    "\n",
    "# Disable upper limit for MPS memory allocations\n",
    "os.environ[\"PYTORCH_MPS_HIGH_WATERMARK_RATIO\"] = \"0.0\"\n",
    "\n",
    "from transformers import BertTokenizer, BertForSequenceClassification\n",
    "from lime.lime_text import LimeTextExplainer\n",
    "import torch\n",
    "import spacy\n",
    "from tqdm import tqdm\n",
    "\n",
    "from lib.utils import load_jsonl_file\n",
    "# from lib.ner_processing import custom_anonymize_text\n",
    "\n",
    "# Load Spacy NLP model\n",
    "nlp = spacy.load(\"en_core_web_trf\")\n",
    "\n",
    "CLASS_NAMES = ['continue', 'not_continue']\n",
    "\n",
    "# Load dataset\n",
    "DATASET = load_jsonl_file(\"shared_data/dataset_2_6_2b.jsonl\")\n",
    "# Load mismatched datapoint\n",
    "# mismatched_datapoint = load_jsonl_file(\"shared_data/dataset_1_8_2b_misclassified_examples.jsonl\")\n",
    "\n",
    "# mismatched_datapoint = mismatched_datapoint[:1]\n",
    "\n",
    "example = [DATASET[0]]\n",
    "\n",
    "\n",
    "def get_device():\n",
    "  \"\"\"Returns the appropriate device available in the system: CUDA, MPS, or CPU\"\"\"\n",
    "  if torch.backends.mps.is_available():\n",
    "    return torch.device(\"mps\")\n",
    "  elif torch.cuda.is_available():\n",
    "    return torch.device(\"cuda\")\n",
    "  else:\n",
    "    return torch.device(\"cpu\")\n",
    "  # return torch.device(\"cpu\")\n",
    "\n",
    "\n",
    "def predict_proba(_text):\n",
    "  \"\"\"\n",
    "  Prediction function that takes a list of texts and returns model predictions.\n",
    "  \"\"\"\n",
    "  # Tokenize text input for BERT\n",
    "  inputs = tokenizer(_text, padding=True, truncation=True, max_length=512, return_tensors=\"pt\").to(device)\n",
    "  inputs = {k: v.to(model.device) for k, v in inputs.items()}\n",
    "  # Get model predictions\n",
    "  with torch.no_grad():\n",
    "    outputs = model(**inputs)\n",
    "  # Apply softmax to get probabilities from logits\n",
    "  probabilities = torch.nn.functional.softmax(outputs.logits, dim=-1)\n",
    "  return probabilities.cpu().detach().numpy()\n",
    "\n",
    "\n",
    "# Set device\n",
    "device = get_device()\n",
    "print(f\"\\nUsing device: {str(device).upper()}\\n\")\n",
    "\n",
    "# Initialize constants\n",
    "BERT_MODEL = 'bert-base-uncased'\n",
    "MODEL_PATH = 'models/2/paper_b_hop_bert_reclass.pth'\n",
    "\n",
    "# Load BERT Tokenizer\n",
    "print(\"• Loading BERT Tokenizer...\")\n",
    "tokenizer = BertTokenizer.from_pretrained(BERT_MODEL)\n",
    "# Load Pre-trained Model\n",
    "print(\"• Loading Pre-trained Model...\")\n",
    "# model = BertForSequenceClassification.from_pretrained(BERT_MODEL)\n",
    "model = BertForSequenceClassification.from_pretrained(BERT_MODEL,\n",
    "                                                      num_labels=len(CLASS_NAMES),\n",
    "                                                      hidden_dropout_prob=0.2)\n",
    "\n",
    "# Move Model to Device\n",
    "model.to(device)\n",
    "\n",
    "# Load Saved Weights\n",
    "print(\"• Loading Saved Weights...\")\n",
    "model.load_state_dict(torch.load(MODEL_PATH, map_location=device))\n",
    "\n",
    "# Prepare Model for Evaluation\n",
    "model.eval()\n",
    "\n",
    "# Initialize LIME Text Explainer\n",
    "explainer = LimeTextExplainer(class_names=CLASS_NAMES)\n",
    "\n",
    "NUM_SAMPLES = 1000\n",
    "\n",
    "for mismatch in tqdm(example, desc=\"Generating Explanations\"):\n",
    "  text = mismatch[\"text\"]\n",
    "  # Generate explanation\n",
    "  exp = explainer.explain_instance(\n",
    "    text_instance=text, classifier_fn=predict_proba, num_features=8, num_samples=NUM_SAMPLES)\n",
    "\n",
    "  print(f\"True class: {mismatch['label']}\")\n",
    "  # print(f\"Predicted class: {predicted_label}\")\n",
    "\n",
    "  # Save the explanation to an HTML file\n",
    "  exp.save_to_file(f'xnlp/paper_c_lime_explanation_{mismatch[\"id\"]}_{NUM_SAMPLES}.html')\n"
   ]
  },
  {
   "cell_type": "code",
   "outputs": [],
   "source": [],
   "metadata": {
    "collapsed": false
   },
   "id": "796509fb18545f22"
  }
 ],
 "metadata": {
  "kernelspec": {
   "display_name": "Python 3",
   "language": "python",
   "name": "python3"
  },
  "language_info": {
   "codemirror_mode": {
    "name": "ipython",
    "version": 2
   },
   "file_extension": ".py",
   "mimetype": "text/x-python",
   "name": "python",
   "nbconvert_exporter": "python",
   "pygments_lexer": "ipython2",
   "version": "2.7.6"
  }
 },
 "nbformat": 4,
 "nbformat_minor": 5
}
