{
 "cells": [
  {
   "cell_type": "code",
   "id": "initial_id",
   "metadata": {
    "collapsed": true,
    "ExecuteTime": {
     "end_time": "2024-07-19T15:21:59.987504Z",
     "start_time": "2024-07-19T15:21:56.639826Z"
    }
   },
   "source": [
    "import torch\n",
    "import numpy as np\n",
    "from transformers import BertTokenizer, BertForSequenceClassification\n",
    "from transformers_interpret import SequenceClassificationExplainer, PairwiseSequenceClassificationExplainer\n",
    "\n",
    "from lib.utils import load_jsonl_file\n",
    "from lib.ner_processing import custom_anonymize_text\n",
    "\n",
    "SEED = 42\n",
    "BATCH_SIZE = 16\n",
    "CLASS_NAMES = ['continue', 'not_continue']\n",
    "\n",
    "# Load dataset\n",
    "# DATASET = load_jsonl_file(\"shared_data/topic_boundary_test.jsonl\")\n",
    "\n",
    "\n",
    "def get_device():\n",
    "  \"\"\"Returns the appropriate device available in the system: CUDA, MPS, or CPU\"\"\"\n",
    "  if torch.cuda.is_available():\n",
    "    return torch.device(\"cuda\")\n",
    "  else:\n",
    "    return torch.device(\"cpu\")\n",
    "\n",
    "\n",
    "# Set device\n",
    "device = get_device()\n",
    "print(f\"\\nUsing device: {str(device).upper()}\\n\")\n",
    "\n",
    "# Initialize constants\n",
    "BERT_MODEL = 'bert-base-uncased'\n",
    "MODEL_PATH = 'models/3/TopicBoundaryBERT.pth'\n",
    "\n",
    "# Initialize tokenizer\n",
    "tokenizer = BertTokenizer.from_pretrained('bert-base-uncased')\n",
    "\n",
    "# Load the model\n",
    "model = BertForSequenceClassification.from_pretrained('bert-base-uncased',\n",
    "                                                      num_labels=len(CLASS_NAMES))\n",
    "\n",
    "# Move the model to the device\n",
    "model = model.to(device)\n",
    "# Load the model weights\n",
    "model.load_state_dict(torch.load(MODEL_PATH, map_location=device))\n",
    "# Set the model to evaluation mode\n",
    "model.eval()\n",
    "\n",
    "# Explainer initialization\n",
    "explainer = SequenceClassificationExplainer(model, tokenizer)\n",
    "\n",
    "\n",
    "def explain_prediction(sentence1, sentence2):\n",
    "  # Combine the sentences with [SEP] token as per BERT's requirement\n",
    "  combined_text = f\"{sentence1} [SEP] {sentence2}\"\n",
    "\n",
    "  # Get model predictions\n",
    "  logits = explainer(combined_text)\n",
    "  print(logits)\n",
    "\n",
    "  # Generate explanation\n",
    "  attributions = explainer.attributions\n",
    "\n",
    "  # Visualize the attributions\n",
    "  explainer.visualize(\"explanation.html\")\n",
    "\n",
    "  return logits, attributions\n",
    "\n",
    "\n",
    "sentence1 = \"What is the capital of France?\"\n",
    "sentence2 = \"The capital of France is Paris.\"\n",
    "\n",
    "# Call the explain function\n",
    "logits, attributions = explain_prediction(sentence1, sentence2)\n",
    "\n",
    "predicted_class_index = np.argmax(logits, axis=1)[0]\n",
    "predicted_class_name = CLASS_NAMES[predicted_class_index]\n",
    "print(f\"Predicted class: {predicted_class_name}\")\n"
   ],
   "outputs": [
    {
     "name": "stdout",
     "output_type": "stream",
     "text": [
      "\n",
      "Using device: CPU\n",
      "\n"
     ]
    },
    {
     "name": "stderr",
     "output_type": "stream",
     "text": [
      "Some weights of the model checkpoint at bert-base-uncased were not used when initializing BertForSequenceClassification: ['cls.predictions.transform.dense.bias', 'cls.seq_relationship.weight', 'cls.predictions.transform.LayerNorm.weight', 'cls.seq_relationship.bias', 'cls.predictions.transform.LayerNorm.bias', 'cls.predictions.bias', 'cls.predictions.transform.dense.weight']\n",
      "- This IS expected if you are initializing BertForSequenceClassification from the checkpoint of a model trained on another task or with another architecture (e.g. initializing a BertForSequenceClassification model from a BertForPreTraining model).\n",
      "- This IS NOT expected if you are initializing BertForSequenceClassification from the checkpoint of a model that you expect to be exactly identical (initializing a BertForSequenceClassification model from a BertForSequenceClassification model).\n",
      "Some weights of BertForSequenceClassification were not initialized from the model checkpoint at bert-base-uncased and are newly initialized: ['classifier.bias', 'classifier.weight']\n",
      "You should probably TRAIN this model on a down-stream task to be able to use it for predictions and inference.\n"
     ]
    },
    {
     "name": "stdout",
     "output_type": "stream",
     "text": [
      "[('[CLS]', 0.0), ('what', 0.008029557832993054), ('is', 0.3110590591094805), ('the', 0.33346263894035805), ('capital', 0.3980458316613479), ('of', 0.02100187413039396), ('france', 0.5494300304888876), ('?', 0.1085069527546482), ('[SEP]', 0.46059213608610167), ('the', 0.06771999640111948), ('capital', -0.00030291064826761985), ('of', -0.1576870007432703), ('france', 0.20272803561550834), ('is', 0.11302968676529693), ('paris', -0.14090047433005523), ('.', -0.06425006211956835), ('[SEP]', 0.0)]\n"
     ]
    },
    {
     "data": {
      "text/plain": [
       "<IPython.core.display.HTML object>"
      ],
      "text/html": [
       "<table width: 100%><div style=\"border-top: 1px solid; margin-top: 5px;             padding-top: 5px; display: inline-block\"><b>Legend: </b><span style=\"display: inline-block; width: 10px; height: 10px;                 border: 1px solid; background-color:                 hsl(0, 75%, 60%)\"></span> Negative  <span style=\"display: inline-block; width: 10px; height: 10px;                 border: 1px solid; background-color:                 hsl(0, 75%, 100%)\"></span> Neutral  <span style=\"display: inline-block; width: 10px; height: 10px;                 border: 1px solid; background-color:                 hsl(120, 75%, 50%)\"></span> Positive  </div><tr><th>True Label</th><th>Predicted Label</th><th>Attribution Label</th><th>Attribution Score</th><th>Word Importance</th><tr><td><text style=\"padding-right:2em\"><b>0</b></text></td><td><text style=\"padding-right:2em\"><b>LABEL_0 (0.86)</b></text></td><td><text style=\"padding-right:2em\"><b>LABEL_0</b></text></td><td><text style=\"padding-right:2em\"><b>2.21</b></text></td><td><mark style=\"background-color: hsl(0, 75%, 100%); opacity:1.0;                     line-height:1.75\"><font color=\"black\"> [CLS]                    </font></mark><mark style=\"background-color: hsl(120, 75%, 100%); opacity:1.0;                     line-height:1.75\"><font color=\"black\"> what                    </font></mark><mark style=\"background-color: hsl(120, 75%, 85%); opacity:1.0;                     line-height:1.75\"><font color=\"black\"> is                    </font></mark><mark style=\"background-color: hsl(120, 75%, 84%); opacity:1.0;                     line-height:1.75\"><font color=\"black\"> the                    </font></mark><mark style=\"background-color: hsl(120, 75%, 81%); opacity:1.0;                     line-height:1.75\"><font color=\"black\"> capital                    </font></mark><mark style=\"background-color: hsl(120, 75%, 99%); opacity:1.0;                     line-height:1.75\"><font color=\"black\"> of                    </font></mark><mark style=\"background-color: hsl(120, 75%, 73%); opacity:1.0;                     line-height:1.75\"><font color=\"black\"> france                    </font></mark><mark style=\"background-color: hsl(120, 75%, 95%); opacity:1.0;                     line-height:1.75\"><font color=\"black\"> ?                    </font></mark><mark style=\"background-color: hsl(120, 75%, 77%); opacity:1.0;                     line-height:1.75\"><font color=\"black\"> [SEP]                    </font></mark><mark style=\"background-color: hsl(120, 75%, 97%); opacity:1.0;                     line-height:1.75\"><font color=\"black\"> the                    </font></mark><mark style=\"background-color: hsl(0, 75%, 100%); opacity:1.0;                     line-height:1.75\"><font color=\"black\"> capital                    </font></mark><mark style=\"background-color: hsl(0, 75%, 94%); opacity:1.0;                     line-height:1.75\"><font color=\"black\"> of                    </font></mark><mark style=\"background-color: hsl(120, 75%, 90%); opacity:1.0;                     line-height:1.75\"><font color=\"black\"> france                    </font></mark><mark style=\"background-color: hsl(120, 75%, 95%); opacity:1.0;                     line-height:1.75\"><font color=\"black\"> is                    </font></mark><mark style=\"background-color: hsl(0, 75%, 95%); opacity:1.0;                     line-height:1.75\"><font color=\"black\"> paris                    </font></mark><mark style=\"background-color: hsl(0, 75%, 98%); opacity:1.0;                     line-height:1.75\"><font color=\"black\"> .                    </font></mark><mark style=\"background-color: hsl(0, 75%, 100%); opacity:1.0;                     line-height:1.75\"><font color=\"black\"> [SEP]                    </font></mark></td><tr></table>"
      ]
     },
     "metadata": {},
     "output_type": "display_data"
    },
    {
     "name": "stdout",
     "output_type": "stream",
     "text": [
      "Predicted class: continue\n"
     ]
    }
   ],
   "execution_count": 24
  },
  {
   "metadata": {},
   "cell_type": "code",
   "outputs": [],
   "execution_count": null,
   "source": "",
   "id": "e09344127ba51d41"
  }
 ],
 "metadata": {
  "kernelspec": {
   "display_name": "Python 3",
   "language": "python",
   "name": "python3"
  },
  "language_info": {
   "codemirror_mode": {
    "name": "ipython",
    "version": 2
   },
   "file_extension": ".py",
   "mimetype": "text/x-python",
   "name": "python",
   "nbconvert_exporter": "python",
   "pygments_lexer": "ipython2",
   "version": "2.7.6"
  }
 },
 "nbformat": 4,
 "nbformat_minor": 5
}
