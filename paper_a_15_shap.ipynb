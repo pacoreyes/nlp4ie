{
 "cells": [
  {
   "cell_type": "code",
   "execution_count": null,
   "id": "initial_id",
   "metadata": {
    "collapsed": false,
    "is_executing": true,
    "ExecuteTime": {
     "start_time": "2024-03-29T06:51:33.870457Z"
    }
   },
   "outputs": [
    {
     "name": "stdout",
     "output_type": "stream",
     "text": [
      "Loading data from shared_data/dataset_1_6_1b_test.jsonl...\n",
      "Loaded 468 items.\n",
      "Loading data from shared_data/dataset_1_8_2b_misclassified_examples.jsonl...\n",
      "Loaded 9 items.\n",
      "\n",
      "Using device: MPS\n"
     ]
    },
    {
     "name": "stderr",
     "output_type": "stream",
     "text": [
      "Some weights of the model checkpoint at bert-base-uncased were not used when initializing BertForSequenceClassification: ['cls.predictions.bias', 'cls.predictions.transform.dense.weight', 'cls.predictions.transform.LayerNorm.bias', 'cls.seq_relationship.bias', 'cls.predictions.transform.LayerNorm.weight', 'cls.seq_relationship.weight', 'cls.predictions.transform.dense.bias']\n",
      "- This IS expected if you are initializing BertForSequenceClassification from the checkpoint of a model trained on another task or with another architecture (e.g. initializing a BertForSequenceClassification model from a BertForPreTraining model).\n",
      "- This IS NOT expected if you are initializing BertForSequenceClassification from the checkpoint of a model that you expect to be exactly identical (initializing a BertForSequenceClassification model from a BertForSequenceClassification model).\n",
      "Some weights of BertForSequenceClassification were not initialized from the model checkpoint at bert-base-uncased and are newly initialized: ['classifier.bias', 'classifier.weight']\n",
      "You should probably TRAIN this model on a down-stream task to be able to use it for predictions and inference.\n"
     ]
    },
    {
     "data": {
      "text/plain": "  0%|          | 0/498 [00:00<?, ?it/s]",
      "application/vnd.jupyter.widget-view+json": {
       "version_major": 2,
       "version_minor": 0,
       "model_id": "f22de4eb8361402aba9be9634d7beb33"
      }
     },
     "metadata": {},
     "output_type": "display_data"
    },
    {
     "name": "stderr",
     "output_type": "stream",
     "text": [
      "PartitionExplainer explainer:   0%|          | 1/234 [00:00<?, ?it/s]"
     ]
    },
    {
     "data": {
      "text/plain": "  0%|          | 0/498 [00:00<?, ?it/s]",
      "application/vnd.jupyter.widget-view+json": {
       "version_major": 2,
       "version_minor": 0,
       "model_id": "45aadc6c042144f3a0928c000a3866df"
      }
     },
     "metadata": {},
     "output_type": "display_data"
    },
    {
     "name": "stderr",
     "output_type": "stream",
     "text": [
      "PartitionExplainer explainer:   1%|▏         | 3/234 [00:48<43:29, 11.29s/it]"
     ]
    },
    {
     "data": {
      "text/plain": "  0%|          | 0/498 [00:00<?, ?it/s]",
      "application/vnd.jupyter.widget-view+json": {
       "version_major": 2,
       "version_minor": 0,
       "model_id": "a9ce80f6fe1e4c98a5f8e4a5f315cb6a"
      }
     },
     "metadata": {},
     "output_type": "display_data"
    },
    {
     "name": "stderr",
     "output_type": "stream",
     "text": [
      "PartitionExplainer explainer:   2%|▏         | 4/234 [01:10<1:01:06, 15.94s/it]"
     ]
    },
    {
     "data": {
      "text/plain": "  0%|          | 0/498 [00:00<?, ?it/s]",
      "application/vnd.jupyter.widget-view+json": {
       "version_major": 2,
       "version_minor": 0,
       "model_id": "fc5779afa333441d8e107933f67058bb"
      }
     },
     "metadata": {},
     "output_type": "display_data"
    },
    {
     "name": "stderr",
     "output_type": "stream",
     "text": [
      "PartitionExplainer explainer:   2%|▏         | 5/234 [01:33<1:10:17, 18.42s/it]"
     ]
    },
    {
     "data": {
      "text/plain": "  0%|          | 0/498 [00:00<?, ?it/s]",
      "application/vnd.jupyter.widget-view+json": {
       "version_major": 2,
       "version_minor": 0,
       "model_id": "c9be160d6c7345418e81c798a689665f"
      }
     },
     "metadata": {},
     "output_type": "display_data"
    },
    {
     "name": "stderr",
     "output_type": "stream",
     "text": [
      "PartitionExplainer explainer:   3%|▎         | 6/234 [01:55<1:14:49, 19.69s/it]"
     ]
    },
    {
     "data": {
      "text/plain": "  0%|          | 0/498 [00:00<?, ?it/s]",
      "application/vnd.jupyter.widget-view+json": {
       "version_major": 2,
       "version_minor": 0,
       "model_id": "3a610c8abc7745289bcaaa37c35dcf50"
      }
     },
     "metadata": {},
     "output_type": "display_data"
    },
    {
     "name": "stderr",
     "output_type": "stream",
     "text": [
      "PartitionExplainer explainer:   3%|▎         | 7/234 [02:17<1:17:42, 20.54s/it]"
     ]
    },
    {
     "data": {
      "text/plain": "  0%|          | 0/498 [00:00<?, ?it/s]",
      "application/vnd.jupyter.widget-view+json": {
       "version_major": 2,
       "version_minor": 0,
       "model_id": "1e835b08a54f4e02a5dd5d84ea21cf61"
      }
     },
     "metadata": {},
     "output_type": "display_data"
    },
    {
     "name": "stderr",
     "output_type": "stream",
     "text": [
      "PartitionExplainer explainer:   3%|▎         | 8/234 [02:39<1:19:29, 21.11s/it]"
     ]
    },
    {
     "data": {
      "text/plain": "  0%|          | 0/498 [00:00<?, ?it/s]",
      "application/vnd.jupyter.widget-view+json": {
       "version_major": 2,
       "version_minor": 0,
       "model_id": "7714c597c94a48eab10a62e84195f728"
      }
     },
     "metadata": {},
     "output_type": "display_data"
    },
    {
     "name": "stderr",
     "output_type": "stream",
     "text": [
      "PartitionExplainer explainer:   4%|▍         | 9/234 [03:01<1:20:24, 21.44s/it]"
     ]
    },
    {
     "data": {
      "text/plain": "  0%|          | 0/498 [00:00<?, ?it/s]",
      "application/vnd.jupyter.widget-view+json": {
       "version_major": 2,
       "version_minor": 0,
       "model_id": "997ae95b083744e38c3683e616f61168"
      }
     },
     "metadata": {},
     "output_type": "display_data"
    },
    {
     "name": "stderr",
     "output_type": "stream",
     "text": [
      "PartitionExplainer explainer:   4%|▍         | 10/234 [03:23<1:20:49, 21.65s/it]"
     ]
    },
    {
     "data": {
      "text/plain": "  0%|          | 0/498 [00:00<?, ?it/s]",
      "application/vnd.jupyter.widget-view+json": {
       "version_major": 2,
       "version_minor": 0,
       "model_id": "fc7587217a104989b01ef6b75a03bb75"
      }
     },
     "metadata": {},
     "output_type": "display_data"
    },
    {
     "name": "stderr",
     "output_type": "stream",
     "text": [
      "PartitionExplainer explainer:   5%|▍         | 11/234 [03:46<1:21:18, 21.88s/it]"
     ]
    },
    {
     "data": {
      "text/plain": "  0%|          | 0/498 [00:00<?, ?it/s]",
      "application/vnd.jupyter.widget-view+json": {
       "version_major": 2,
       "version_minor": 0,
       "model_id": "115cc706c9b14a4bb84be54b46374091"
      }
     },
     "metadata": {},
     "output_type": "display_data"
    },
    {
     "name": "stderr",
     "output_type": "stream",
     "text": [
      "PartitionExplainer explainer:   5%|▌         | 12/234 [04:09<1:21:50, 22.12s/it]"
     ]
    },
    {
     "data": {
      "text/plain": "  0%|          | 0/498 [00:00<?, ?it/s]",
      "application/vnd.jupyter.widget-view+json": {
       "version_major": 2,
       "version_minor": 0,
       "model_id": "29d03caf1d28400c9f21ec0a384e90a3"
      }
     },
     "metadata": {},
     "output_type": "display_data"
    },
    {
     "name": "stderr",
     "output_type": "stream",
     "text": [
      "PartitionExplainer explainer:   6%|▌         | 13/234 [04:31<1:21:35, 22.15s/it]"
     ]
    },
    {
     "data": {
      "text/plain": "  0%|          | 0/498 [00:00<?, ?it/s]",
      "application/vnd.jupyter.widget-view+json": {
       "version_major": 2,
       "version_minor": 0,
       "model_id": "613ad2970fb544e5aa79eb0fb848b294"
      }
     },
     "metadata": {},
     "output_type": "display_data"
    },
    {
     "name": "stderr",
     "output_type": "stream",
     "text": [
      "PartitionExplainer explainer:   6%|▌         | 14/234 [04:53<1:21:35, 22.25s/it]"
     ]
    },
    {
     "data": {
      "text/plain": "  0%|          | 0/498 [00:00<?, ?it/s]",
      "application/vnd.jupyter.widget-view+json": {
       "version_major": 2,
       "version_minor": 0,
       "model_id": "578b7b69f93447cba923142aed174e37"
      }
     },
     "metadata": {},
     "output_type": "display_data"
    },
    {
     "name": "stderr",
     "output_type": "stream",
     "text": [
      "PartitionExplainer explainer:   6%|▋         | 15/234 [05:16<1:21:41, 22.38s/it]"
     ]
    },
    {
     "data": {
      "text/plain": "  0%|          | 0/498 [00:00<?, ?it/s]",
      "application/vnd.jupyter.widget-view+json": {
       "version_major": 2,
       "version_minor": 0,
       "model_id": "2796b16e0fd44f689d69701490a9a3b6"
      }
     },
     "metadata": {},
     "output_type": "display_data"
    },
    {
     "name": "stderr",
     "output_type": "stream",
     "text": [
      "PartitionExplainer explainer:   7%|▋         | 16/234 [05:38<1:21:20, 22.39s/it]"
     ]
    },
    {
     "data": {
      "text/plain": "  0%|          | 0/498 [00:00<?, ?it/s]",
      "application/vnd.jupyter.widget-view+json": {
       "version_major": 2,
       "version_minor": 0,
       "model_id": "04af81469de34604b1b4839b54d7bb0a"
      }
     },
     "metadata": {},
     "output_type": "display_data"
    },
    {
     "name": "stderr",
     "output_type": "stream",
     "text": [
      "PartitionExplainer explainer:   7%|▋         | 17/234 [06:01<1:20:54, 22.37s/it]"
     ]
    },
    {
     "data": {
      "text/plain": "  0%|          | 0/498 [00:00<?, ?it/s]",
      "application/vnd.jupyter.widget-view+json": {
       "version_major": 2,
       "version_minor": 0,
       "model_id": "9dac7c996c6e4d2bb667112e418cc537"
      }
     },
     "metadata": {},
     "output_type": "display_data"
    },
    {
     "name": "stderr",
     "output_type": "stream",
     "text": [
      "PartitionExplainer explainer:   8%|▊         | 18/234 [06:24<1:21:47, 22.72s/it]"
     ]
    },
    {
     "data": {
      "text/plain": "  0%|          | 0/498 [00:00<?, ?it/s]",
      "application/vnd.jupyter.widget-view+json": {
       "version_major": 2,
       "version_minor": 0,
       "model_id": "7e46a6fd5a714df28458444a765a74ed"
      }
     },
     "metadata": {},
     "output_type": "display_data"
    },
    {
     "name": "stderr",
     "output_type": "stream",
     "text": [
      "PartitionExplainer explainer:   8%|▊         | 19/234 [06:47<1:21:57, 22.87s/it]"
     ]
    },
    {
     "data": {
      "text/plain": "  0%|          | 0/498 [00:00<?, ?it/s]",
      "application/vnd.jupyter.widget-view+json": {
       "version_major": 2,
       "version_minor": 0,
       "model_id": "f3be5585c9fb48e48d4c9b2f6b9c7080"
      }
     },
     "metadata": {},
     "output_type": "display_data"
    },
    {
     "name": "stderr",
     "output_type": "stream",
     "text": [
      "PartitionExplainer explainer:   9%|▊         | 20/234 [07:10<1:21:17, 22.79s/it]"
     ]
    },
    {
     "data": {
      "text/plain": "  0%|          | 0/498 [00:00<?, ?it/s]",
      "application/vnd.jupyter.widget-view+json": {
       "version_major": 2,
       "version_minor": 0,
       "model_id": "4fb6275e099243a59a677639218e4dc0"
      }
     },
     "metadata": {},
     "output_type": "display_data"
    },
    {
     "name": "stderr",
     "output_type": "stream",
     "text": [
      "PartitionExplainer explainer:   9%|▉         | 21/234 [07:33<1:21:25, 22.94s/it]"
     ]
    },
    {
     "data": {
      "text/plain": "  0%|          | 0/498 [00:00<?, ?it/s]",
      "application/vnd.jupyter.widget-view+json": {
       "version_major": 2,
       "version_minor": 0,
       "model_id": "9a88381c4e0449cfb3a9d05bac31f0a9"
      }
     },
     "metadata": {},
     "output_type": "display_data"
    },
    {
     "name": "stderr",
     "output_type": "stream",
     "text": [
      "PartitionExplainer explainer:   9%|▉         | 22/234 [07:56<1:20:25, 22.76s/it]"
     ]
    },
    {
     "data": {
      "text/plain": "  0%|          | 0/498 [00:00<?, ?it/s]",
      "application/vnd.jupyter.widget-view+json": {
       "version_major": 2,
       "version_minor": 0,
       "model_id": "5e017d70143d44e4affdcefe3a461b89"
      }
     },
     "metadata": {},
     "output_type": "display_data"
    },
    {
     "name": "stderr",
     "output_type": "stream",
     "text": [
      "PartitionExplainer explainer:  10%|▉         | 23/234 [08:18<1:20:06, 22.78s/it]"
     ]
    },
    {
     "data": {
      "text/plain": "  0%|          | 0/498 [00:00<?, ?it/s]",
      "application/vnd.jupyter.widget-view+json": {
       "version_major": 2,
       "version_minor": 0,
       "model_id": "2be4098d6ebf404da65d725b7ab6c98d"
      }
     },
     "metadata": {},
     "output_type": "display_data"
    },
    {
     "name": "stderr",
     "output_type": "stream",
     "text": [
      "PartitionExplainer explainer:  10%|█         | 24/234 [08:41<1:19:37, 22.75s/it]"
     ]
    },
    {
     "data": {
      "text/plain": "  0%|          | 0/498 [00:00<?, ?it/s]",
      "application/vnd.jupyter.widget-view+json": {
       "version_major": 2,
       "version_minor": 0,
       "model_id": "a524f24872634a6ea5f65ec5d3f4efdf"
      }
     },
     "metadata": {},
     "output_type": "display_data"
    },
    {
     "name": "stderr",
     "output_type": "stream",
     "text": [
      "PartitionExplainer explainer:  11%|█         | 25/234 [09:04<1:18:54, 22.65s/it]"
     ]
    },
    {
     "data": {
      "text/plain": "  0%|          | 0/498 [00:00<?, ?it/s]",
      "application/vnd.jupyter.widget-view+json": {
       "version_major": 2,
       "version_minor": 0,
       "model_id": "6951e60a87eb4cf5afd586f8ea870866"
      }
     },
     "metadata": {},
     "output_type": "display_data"
    },
    {
     "name": "stderr",
     "output_type": "stream",
     "text": [
      "PartitionExplainer explainer:  11%|█         | 26/234 [09:26<1:18:11, 22.56s/it]"
     ]
    },
    {
     "data": {
      "text/plain": "  0%|          | 0/498 [00:00<?, ?it/s]",
      "application/vnd.jupyter.widget-view+json": {
       "version_major": 2,
       "version_minor": 0,
       "model_id": "7996689ac23749edbd906305826a0a33"
      }
     },
     "metadata": {},
     "output_type": "display_data"
    },
    {
     "name": "stderr",
     "output_type": "stream",
     "text": [
      "PartitionExplainer explainer:  12%|█▏        | 27/234 [09:48<1:17:26, 22.45s/it]"
     ]
    },
    {
     "data": {
      "text/plain": "  0%|          | 0/498 [00:00<?, ?it/s]",
      "application/vnd.jupyter.widget-view+json": {
       "version_major": 2,
       "version_minor": 0,
       "model_id": "4e6a5474c9304ef7928bfb55b8512364"
      }
     },
     "metadata": {},
     "output_type": "display_data"
    },
    {
     "name": "stderr",
     "output_type": "stream",
     "text": [
      "PartitionExplainer explainer:  12%|█▏        | 28/234 [10:10<1:16:55, 22.40s/it]"
     ]
    },
    {
     "data": {
      "text/plain": "  0%|          | 0/498 [00:00<?, ?it/s]",
      "application/vnd.jupyter.widget-view+json": {
       "version_major": 2,
       "version_minor": 0,
       "model_id": "c11c33d9986845b8af8b93e2a2f94d2a"
      }
     },
     "metadata": {},
     "output_type": "display_data"
    },
    {
     "name": "stderr",
     "output_type": "stream",
     "text": [
      "PartitionExplainer explainer:  12%|█▏        | 29/234 [10:33<1:16:59, 22.53s/it]"
     ]
    },
    {
     "data": {
      "text/plain": "  0%|          | 0/498 [00:00<?, ?it/s]",
      "application/vnd.jupyter.widget-view+json": {
       "version_major": 2,
       "version_minor": 0,
       "model_id": "944432daf88e4f42b86f46d833086cc9"
      }
     },
     "metadata": {},
     "output_type": "display_data"
    },
    {
     "name": "stderr",
     "output_type": "stream",
     "text": [
      "PartitionExplainer explainer:  13%|█▎        | 30/234 [10:55<1:16:06, 22.38s/it]"
     ]
    },
    {
     "data": {
      "text/plain": "  0%|          | 0/498 [00:00<?, ?it/s]",
      "application/vnd.jupyter.widget-view+json": {
       "version_major": 2,
       "version_minor": 0,
       "model_id": "053539e1df654e659ee26f7e3bf3e25a"
      }
     },
     "metadata": {},
     "output_type": "display_data"
    },
    {
     "name": "stderr",
     "output_type": "stream",
     "text": [
      "PartitionExplainer explainer:  13%|█▎        | 31/234 [11:17<1:15:15, 22.24s/it]"
     ]
    },
    {
     "data": {
      "text/plain": "  0%|          | 0/498 [00:00<?, ?it/s]",
      "application/vnd.jupyter.widget-view+json": {
       "version_major": 2,
       "version_minor": 0,
       "model_id": "a2d3049c0750470195760cb716a1e9ee"
      }
     },
     "metadata": {},
     "output_type": "display_data"
    },
    {
     "name": "stderr",
     "output_type": "stream",
     "text": [
      "PartitionExplainer explainer:  14%|█▎        | 32/234 [11:39<1:14:36, 22.16s/it]"
     ]
    },
    {
     "data": {
      "text/plain": "  0%|          | 0/498 [00:00<?, ?it/s]",
      "application/vnd.jupyter.widget-view+json": {
       "version_major": 2,
       "version_minor": 0,
       "model_id": "82ebfab03db44da49d6f74efce5ac6a0"
      }
     },
     "metadata": {},
     "output_type": "display_data"
    },
    {
     "name": "stderr",
     "output_type": "stream",
     "text": [
      "PartitionExplainer explainer:  14%|█▍        | 33/234 [12:01<1:13:51, 22.05s/it]"
     ]
    },
    {
     "data": {
      "text/plain": "  0%|          | 0/498 [00:00<?, ?it/s]",
      "application/vnd.jupyter.widget-view+json": {
       "version_major": 2,
       "version_minor": 0,
       "model_id": "996d9efb798f48d4bdbdfd917a95b100"
      }
     },
     "metadata": {},
     "output_type": "display_data"
    },
    {
     "name": "stderr",
     "output_type": "stream",
     "text": [
      "PartitionExplainer explainer:  15%|█▍        | 34/234 [12:23<1:13:13, 21.97s/it]"
     ]
    },
    {
     "data": {
      "text/plain": "  0%|          | 0/498 [00:00<?, ?it/s]",
      "application/vnd.jupyter.widget-view+json": {
       "version_major": 2,
       "version_minor": 0,
       "model_id": "37c251d90e68418fb0cf204193f70b29"
      }
     },
     "metadata": {},
     "output_type": "display_data"
    },
    {
     "name": "stderr",
     "output_type": "stream",
     "text": [
      "PartitionExplainer explainer:  15%|█▍        | 35/234 [12:45<1:12:49, 21.96s/it]"
     ]
    },
    {
     "data": {
      "text/plain": "  0%|          | 0/498 [00:00<?, ?it/s]",
      "application/vnd.jupyter.widget-view+json": {
       "version_major": 2,
       "version_minor": 0,
       "model_id": "1b526be5f6104fdfbde819364cb05b85"
      }
     },
     "metadata": {},
     "output_type": "display_data"
    },
    {
     "name": "stderr",
     "output_type": "stream",
     "text": [
      "PartitionExplainer explainer:  15%|█▌        | 36/234 [13:06<1:12:16, 21.90s/it]"
     ]
    },
    {
     "data": {
      "text/plain": "  0%|          | 0/498 [00:00<?, ?it/s]",
      "application/vnd.jupyter.widget-view+json": {
       "version_major": 2,
       "version_minor": 0,
       "model_id": "aac77ec3a17e42da8d39ffa1a74b6355"
      }
     },
     "metadata": {},
     "output_type": "display_data"
    },
    {
     "name": "stderr",
     "output_type": "stream",
     "text": [
      "PartitionExplainer explainer:  16%|█▌        | 37/234 [13:29<1:12:45, 22.16s/it]"
     ]
    },
    {
     "data": {
      "text/plain": "  0%|          | 0/498 [00:00<?, ?it/s]",
      "application/vnd.jupyter.widget-view+json": {
       "version_major": 2,
       "version_minor": 0,
       "model_id": "3874b891e87f4036a6f4c860e5e21721"
      }
     },
     "metadata": {},
     "output_type": "display_data"
    },
    {
     "name": "stderr",
     "output_type": "stream",
     "text": [
      "PartitionExplainer explainer:  16%|█▌        | 38/234 [13:51<1:12:25, 22.17s/it]"
     ]
    },
    {
     "data": {
      "text/plain": "  0%|          | 0/498 [00:00<?, ?it/s]",
      "application/vnd.jupyter.widget-view+json": {
       "version_major": 2,
       "version_minor": 0,
       "model_id": "1265ecf3e7bf413d8cb04b84e9763c9c"
      }
     },
     "metadata": {},
     "output_type": "display_data"
    },
    {
     "name": "stderr",
     "output_type": "stream",
     "text": [
      "PartitionExplainer explainer:  17%|█▋        | 39/234 [14:14<1:12:48, 22.40s/it]"
     ]
    },
    {
     "data": {
      "text/plain": "  0%|          | 0/498 [00:00<?, ?it/s]",
      "application/vnd.jupyter.widget-view+json": {
       "version_major": 2,
       "version_minor": 0,
       "model_id": "62b724433ba24b5ab40a5f86e5d40c91"
      }
     },
     "metadata": {},
     "output_type": "display_data"
    },
    {
     "name": "stderr",
     "output_type": "stream",
     "text": [
      "PartitionExplainer explainer:  17%|█▋        | 40/234 [14:38<1:13:49, 22.83s/it]"
     ]
    },
    {
     "data": {
      "text/plain": "  0%|          | 0/498 [00:00<?, ?it/s]",
      "application/vnd.jupyter.widget-view+json": {
       "version_major": 2,
       "version_minor": 0,
       "model_id": "6ed822a3c47f42bbb246864901c5c053"
      }
     },
     "metadata": {},
     "output_type": "display_data"
    },
    {
     "name": "stderr",
     "output_type": "stream",
     "text": [
      "PartitionExplainer explainer:  18%|█▊        | 41/234 [15:02<1:14:47, 23.25s/it]"
     ]
    },
    {
     "data": {
      "text/plain": "  0%|          | 0/498 [00:00<?, ?it/s]",
      "application/vnd.jupyter.widget-view+json": {
       "version_major": 2,
       "version_minor": 0,
       "model_id": "60f06cdb612f43449cf751a1e7203e54"
      }
     },
     "metadata": {},
     "output_type": "display_data"
    },
    {
     "name": "stderr",
     "output_type": "stream",
     "text": [
      "PartitionExplainer explainer:  18%|█▊        | 42/234 [15:25<1:13:52, 23.09s/it]"
     ]
    },
    {
     "data": {
      "text/plain": "  0%|          | 0/498 [00:00<?, ?it/s]",
      "application/vnd.jupyter.widget-view+json": {
       "version_major": 2,
       "version_minor": 0,
       "model_id": "7a2e20624a7a4b0ea288b042b75dc588"
      }
     },
     "metadata": {},
     "output_type": "display_data"
    },
    {
     "name": "stderr",
     "output_type": "stream",
     "text": [
      "PartitionExplainer explainer:  18%|█▊        | 43/234 [15:49<1:14:03, 23.26s/it]"
     ]
    },
    {
     "data": {
      "text/plain": "  0%|          | 0/498 [00:00<?, ?it/s]",
      "application/vnd.jupyter.widget-view+json": {
       "version_major": 2,
       "version_minor": 0,
       "model_id": "0fd14c7fa14f40c0b34341e2f844c325"
      }
     },
     "metadata": {},
     "output_type": "display_data"
    },
    {
     "name": "stderr",
     "output_type": "stream",
     "text": [
      "PartitionExplainer explainer:  19%|█▉        | 44/234 [16:12<1:13:12, 23.12s/it]"
     ]
    },
    {
     "data": {
      "text/plain": "  0%|          | 0/498 [00:00<?, ?it/s]",
      "application/vnd.jupyter.widget-view+json": {
       "version_major": 2,
       "version_minor": 0,
       "model_id": "827715fcb1464de89dabad1ffefedc87"
      }
     },
     "metadata": {},
     "output_type": "display_data"
    },
    {
     "name": "stderr",
     "output_type": "stream",
     "text": [
      "PartitionExplainer explainer:  19%|█▉        | 45/234 [16:35<1:13:25, 23.31s/it]"
     ]
    },
    {
     "data": {
      "text/plain": "  0%|          | 0/498 [00:00<?, ?it/s]",
      "application/vnd.jupyter.widget-view+json": {
       "version_major": 2,
       "version_minor": 0,
       "model_id": "2b01458a9ace4bf3a0c72b35c4719f03"
      }
     },
     "metadata": {},
     "output_type": "display_data"
    },
    {
     "name": "stderr",
     "output_type": "stream",
     "text": [
      "PartitionExplainer explainer:  20%|█▉        | 46/234 [16:58<1:12:54, 23.27s/it]"
     ]
    },
    {
     "data": {
      "text/plain": "  0%|          | 0/498 [00:00<?, ?it/s]",
      "application/vnd.jupyter.widget-view+json": {
       "version_major": 2,
       "version_minor": 0,
       "model_id": "0a0ab2c5c7664034bb8bb8298ba4da40"
      }
     },
     "metadata": {},
     "output_type": "display_data"
    },
    {
     "name": "stderr",
     "output_type": "stream",
     "text": [
      "PartitionExplainer explainer:  20%|██        | 47/234 [17:21<1:11:32, 22.96s/it]"
     ]
    },
    {
     "data": {
      "text/plain": "  0%|          | 0/498 [00:00<?, ?it/s]",
      "application/vnd.jupyter.widget-view+json": {
       "version_major": 2,
       "version_minor": 0,
       "model_id": "0b241f8d09bc4f61a339ca07f14fe25b"
      }
     },
     "metadata": {},
     "output_type": "display_data"
    },
    {
     "name": "stderr",
     "output_type": "stream",
     "text": [
      "PartitionExplainer explainer:  21%|██        | 48/234 [17:44<1:11:01, 22.91s/it]"
     ]
    },
    {
     "data": {
      "text/plain": "  0%|          | 0/498 [00:00<?, ?it/s]",
      "application/vnd.jupyter.widget-view+json": {
       "version_major": 2,
       "version_minor": 0,
       "model_id": "eb92734d0911458db48828d357b9934b"
      }
     },
     "metadata": {},
     "output_type": "display_data"
    },
    {
     "name": "stderr",
     "output_type": "stream",
     "text": [
      "PartitionExplainer explainer:  21%|██        | 49/234 [18:06<1:10:00, 22.70s/it]"
     ]
    },
    {
     "data": {
      "text/plain": "  0%|          | 0/498 [00:00<?, ?it/s]",
      "application/vnd.jupyter.widget-view+json": {
       "version_major": 2,
       "version_minor": 0,
       "model_id": "f7aa9da22be147c0a13bc2defb86dfe7"
      }
     },
     "metadata": {},
     "output_type": "display_data"
    },
    {
     "name": "stderr",
     "output_type": "stream",
     "text": [
      "PartitionExplainer explainer:  21%|██▏       | 50/234 [18:29<1:09:59, 22.82s/it]"
     ]
    },
    {
     "data": {
      "text/plain": "  0%|          | 0/498 [00:00<?, ?it/s]",
      "application/vnd.jupyter.widget-view+json": {
       "version_major": 2,
       "version_minor": 0,
       "model_id": "4c364fa7b4ba4c1b96c569b2e4554db3"
      }
     },
     "metadata": {},
     "output_type": "display_data"
    },
    {
     "name": "stderr",
     "output_type": "stream",
     "text": [
      "PartitionExplainer explainer:  22%|██▏       | 51/234 [18:52<1:09:42, 22.85s/it]"
     ]
    },
    {
     "data": {
      "text/plain": "  0%|          | 0/498 [00:00<?, ?it/s]",
      "application/vnd.jupyter.widget-view+json": {
       "version_major": 2,
       "version_minor": 0,
       "model_id": "31a42e68a5754546944a98f8e26a9d11"
      }
     },
     "metadata": {},
     "output_type": "display_data"
    },
    {
     "name": "stderr",
     "output_type": "stream",
     "text": [
      "PartitionExplainer explainer:  22%|██▏       | 52/234 [19:15<1:09:25, 22.89s/it]"
     ]
    },
    {
     "data": {
      "text/plain": "  0%|          | 0/498 [00:00<?, ?it/s]",
      "application/vnd.jupyter.widget-view+json": {
       "version_major": 2,
       "version_minor": 0,
       "model_id": "c88b66561ba94e5d8f83e99421be2f8f"
      }
     },
     "metadata": {},
     "output_type": "display_data"
    },
    {
     "name": "stderr",
     "output_type": "stream",
     "text": [
      "PartitionExplainer explainer:  23%|██▎       | 53/234 [19:38<1:08:59, 22.87s/it]"
     ]
    },
    {
     "data": {
      "text/plain": "  0%|          | 0/498 [00:00<?, ?it/s]",
      "application/vnd.jupyter.widget-view+json": {
       "version_major": 2,
       "version_minor": 0,
       "model_id": "de4fd9ab641b4bb19f535c4b1bde10ee"
      }
     },
     "metadata": {},
     "output_type": "display_data"
    },
    {
     "name": "stderr",
     "output_type": "stream",
     "text": [
      "PartitionExplainer explainer:  23%|██▎       | 54/234 [20:00<1:08:09, 22.72s/it]"
     ]
    },
    {
     "data": {
      "text/plain": "  0%|          | 0/498 [00:00<?, ?it/s]",
      "application/vnd.jupyter.widget-view+json": {
       "version_major": 2,
       "version_minor": 0,
       "model_id": "1e240634ea244951b3d3fb1862ae689d"
      }
     },
     "metadata": {},
     "output_type": "display_data"
    },
    {
     "name": "stderr",
     "output_type": "stream",
     "text": [
      "PartitionExplainer explainer:  24%|██▎       | 55/234 [20:22<1:06:52, 22.41s/it]"
     ]
    },
    {
     "data": {
      "text/plain": "  0%|          | 0/498 [00:00<?, ?it/s]",
      "application/vnd.jupyter.widget-view+json": {
       "version_major": 2,
       "version_minor": 0,
       "model_id": "7fe271aee8f8409b92288e7558c0115a"
      }
     },
     "metadata": {},
     "output_type": "display_data"
    },
    {
     "name": "stderr",
     "output_type": "stream",
     "text": [
      "PartitionExplainer explainer:  24%|██▍       | 56/234 [20:44<1:06:02, 22.26s/it]"
     ]
    },
    {
     "data": {
      "text/plain": "  0%|          | 0/498 [00:00<?, ?it/s]",
      "application/vnd.jupyter.widget-view+json": {
       "version_major": 2,
       "version_minor": 0,
       "model_id": "a1640c01bf504cebac5d08da651c1ac1"
      }
     },
     "metadata": {},
     "output_type": "display_data"
    },
    {
     "name": "stderr",
     "output_type": "stream",
     "text": [
      "PartitionExplainer explainer:  24%|██▍       | 57/234 [21:06<1:05:25, 22.18s/it]"
     ]
    },
    {
     "data": {
      "text/plain": "  0%|          | 0/498 [00:00<?, ?it/s]",
      "application/vnd.jupyter.widget-view+json": {
       "version_major": 2,
       "version_minor": 0,
       "model_id": "163601a658b344029acce1a97d7e084a"
      }
     },
     "metadata": {},
     "output_type": "display_data"
    },
    {
     "name": "stderr",
     "output_type": "stream",
     "text": [
      "PartitionExplainer explainer:  25%|██▍       | 58/234 [21:28<1:05:36, 22.37s/it]"
     ]
    },
    {
     "data": {
      "text/plain": "  0%|          | 0/498 [00:00<?, ?it/s]",
      "application/vnd.jupyter.widget-view+json": {
       "version_major": 2,
       "version_minor": 0,
       "model_id": "4205423761814094aa0f4119569031ca"
      }
     },
     "metadata": {},
     "output_type": "display_data"
    },
    {
     "name": "stderr",
     "output_type": "stream",
     "text": [
      "PartitionExplainer explainer:  25%|██▌       | 59/234 [21:52<1:06:15, 22.72s/it]"
     ]
    },
    {
     "data": {
      "text/plain": "  0%|          | 0/498 [00:00<?, ?it/s]",
      "application/vnd.jupyter.widget-view+json": {
       "version_major": 2,
       "version_minor": 0,
       "model_id": "e0e4b3e84beb4b51ade33965e50741c1"
      }
     },
     "metadata": {},
     "output_type": "display_data"
    },
    {
     "name": "stderr",
     "output_type": "stream",
     "text": [
      "PartitionExplainer explainer:  26%|██▌       | 60/234 [22:15<1:05:57, 22.74s/it]"
     ]
    },
    {
     "data": {
      "text/plain": "  0%|          | 0/498 [00:00<?, ?it/s]",
      "application/vnd.jupyter.widget-view+json": {
       "version_major": 2,
       "version_minor": 0,
       "model_id": "b9589f44117843399eea195fce777f5b"
      }
     },
     "metadata": {},
     "output_type": "display_data"
    },
    {
     "name": "stderr",
     "output_type": "stream",
     "text": [
      "PartitionExplainer explainer:  26%|██▌       | 61/234 [22:37<1:05:36, 22.76s/it]"
     ]
    },
    {
     "data": {
      "text/plain": "  0%|          | 0/498 [00:00<?, ?it/s]",
      "application/vnd.jupyter.widget-view+json": {
       "version_major": 2,
       "version_minor": 0,
       "model_id": "782d5dec3da743cb922e7221bb27c8b8"
      }
     },
     "metadata": {},
     "output_type": "display_data"
    },
    {
     "name": "stderr",
     "output_type": "stream",
     "text": [
      "PartitionExplainer explainer:  26%|██▋       | 62/234 [23:00<1:05:16, 22.77s/it]"
     ]
    },
    {
     "data": {
      "text/plain": "  0%|          | 0/498 [00:00<?, ?it/s]",
      "application/vnd.jupyter.widget-view+json": {
       "version_major": 2,
       "version_minor": 0,
       "model_id": "a7936304acea4af4876411686c63c95e"
      }
     },
     "metadata": {},
     "output_type": "display_data"
    },
    {
     "name": "stderr",
     "output_type": "stream",
     "text": [
      "PartitionExplainer explainer:  27%|██▋       | 63/234 [23:23<1:05:17, 22.91s/it]"
     ]
    },
    {
     "data": {
      "text/plain": "  0%|          | 0/498 [00:00<?, ?it/s]",
      "application/vnd.jupyter.widget-view+json": {
       "version_major": 2,
       "version_minor": 0,
       "model_id": "513708937c534824a6d35aec74c1b763"
      }
     },
     "metadata": {},
     "output_type": "display_data"
    },
    {
     "name": "stderr",
     "output_type": "stream",
     "text": [
      "PartitionExplainer explainer:  27%|██▋       | 64/234 [23:47<1:05:48, 23.23s/it]"
     ]
    },
    {
     "data": {
      "text/plain": "  0%|          | 0/498 [00:00<?, ?it/s]",
      "application/vnd.jupyter.widget-view+json": {
       "version_major": 2,
       "version_minor": 0,
       "model_id": "71323aa6338949f4abd8d9b0e5ff5956"
      }
     },
     "metadata": {},
     "output_type": "display_data"
    },
    {
     "name": "stderr",
     "output_type": "stream",
     "text": [
      "PartitionExplainer explainer:  28%|██▊       | 65/234 [24:11<1:05:53, 23.39s/it]"
     ]
    },
    {
     "data": {
      "text/plain": "  0%|          | 0/498 [00:00<?, ?it/s]",
      "application/vnd.jupyter.widget-view+json": {
       "version_major": 2,
       "version_minor": 0,
       "model_id": "f1788466f9f54d658ace829b4c274c8c"
      }
     },
     "metadata": {},
     "output_type": "display_data"
    },
    {
     "name": "stderr",
     "output_type": "stream",
     "text": [
      "PartitionExplainer explainer:  28%|██▊       | 66/234 [24:35<1:05:39, 23.45s/it]"
     ]
    },
    {
     "data": {
      "text/plain": "  0%|          | 0/498 [00:00<?, ?it/s]",
      "application/vnd.jupyter.widget-view+json": {
       "version_major": 2,
       "version_minor": 0,
       "model_id": "dcf31df4962c4a9083e0f6303cee5bd9"
      }
     },
     "metadata": {},
     "output_type": "display_data"
    },
    {
     "name": "stderr",
     "output_type": "stream",
     "text": [
      "PartitionExplainer explainer:  29%|██▊       | 67/234 [24:59<1:05:44, 23.62s/it]"
     ]
    },
    {
     "data": {
      "text/plain": "  0%|          | 0/498 [00:00<?, ?it/s]",
      "application/vnd.jupyter.widget-view+json": {
       "version_major": 2,
       "version_minor": 0,
       "model_id": "ed3bcdf120b143eb8491c11b7c4bcb12"
      }
     },
     "metadata": {},
     "output_type": "display_data"
    },
    {
     "name": "stderr",
     "output_type": "stream",
     "text": [
      "PartitionExplainer explainer:  29%|██▉       | 68/234 [25:24<1:06:38, 24.09s/it]"
     ]
    },
    {
     "data": {
      "text/plain": "  0%|          | 0/498 [00:00<?, ?it/s]",
      "application/vnd.jupyter.widget-view+json": {
       "version_major": 2,
       "version_minor": 0,
       "model_id": "ae4b28db6179437faf9aac5eb0aab18e"
      }
     },
     "metadata": {},
     "output_type": "display_data"
    },
    {
     "name": "stderr",
     "output_type": "stream",
     "text": [
      "PartitionExplainer explainer:  29%|██▉       | 69/234 [25:49<1:06:57, 24.35s/it]"
     ]
    },
    {
     "data": {
      "text/plain": "  0%|          | 0/498 [00:00<?, ?it/s]",
      "application/vnd.jupyter.widget-view+json": {
       "version_major": 2,
       "version_minor": 0,
       "model_id": "84d1d627b8f94ad294cb86cfec93c8f9"
      }
     },
     "metadata": {},
     "output_type": "display_data"
    },
    {
     "name": "stderr",
     "output_type": "stream",
     "text": [
      "PartitionExplainer explainer:  30%|██▉       | 70/234 [26:14<1:07:06, 24.55s/it]"
     ]
    },
    {
     "data": {
      "text/plain": "  0%|          | 0/498 [00:00<?, ?it/s]",
      "application/vnd.jupyter.widget-view+json": {
       "version_major": 2,
       "version_minor": 0,
       "model_id": "5562b6e472bc4e0db8259301758a2b35"
      }
     },
     "metadata": {},
     "output_type": "display_data"
    },
    {
     "name": "stderr",
     "output_type": "stream",
     "text": [
      "PartitionExplainer explainer:  30%|███       | 71/234 [26:39<1:07:13, 24.75s/it]"
     ]
    },
    {
     "data": {
      "text/plain": "  0%|          | 0/498 [00:00<?, ?it/s]",
      "application/vnd.jupyter.widget-view+json": {
       "version_major": 2,
       "version_minor": 0,
       "model_id": "95426c00c2734f899c62adab78072249"
      }
     },
     "metadata": {},
     "output_type": "display_data"
    },
    {
     "name": "stderr",
     "output_type": "stream",
     "text": [
      "PartitionExplainer explainer:  31%|███       | 72/234 [27:04<1:06:58, 24.81s/it]"
     ]
    },
    {
     "data": {
      "text/plain": "  0%|          | 0/498 [00:00<?, ?it/s]",
      "application/vnd.jupyter.widget-view+json": {
       "version_major": 2,
       "version_minor": 0,
       "model_id": "b8b2acdcdede4f7eb2a1c859256c72bb"
      }
     },
     "metadata": {},
     "output_type": "display_data"
    },
    {
     "name": "stderr",
     "output_type": "stream",
     "text": [
      "PartitionExplainer explainer:  31%|███       | 73/234 [27:29<1:06:47, 24.89s/it]"
     ]
    },
    {
     "data": {
      "text/plain": "  0%|          | 0/498 [00:00<?, ?it/s]",
      "application/vnd.jupyter.widget-view+json": {
       "version_major": 2,
       "version_minor": 0,
       "model_id": "9565dcbf810f4a1da347093d1e9e7456"
      }
     },
     "metadata": {},
     "output_type": "display_data"
    },
    {
     "name": "stderr",
     "output_type": "stream",
     "text": [
      "PartitionExplainer explainer:  32%|███▏      | 74/234 [27:54<1:06:08, 24.80s/it]"
     ]
    },
    {
     "data": {
      "text/plain": "  0%|          | 0/498 [00:00<?, ?it/s]",
      "application/vnd.jupyter.widget-view+json": {
       "version_major": 2,
       "version_minor": 0,
       "model_id": "1aada3c4838e4656bf01a2d073f463a1"
      }
     },
     "metadata": {},
     "output_type": "display_data"
    },
    {
     "name": "stderr",
     "output_type": "stream",
     "text": [
      "PartitionExplainer explainer:  32%|███▏      | 75/234 [28:18<1:04:54, 24.49s/it]"
     ]
    },
    {
     "data": {
      "text/plain": "  0%|          | 0/498 [00:00<?, ?it/s]",
      "application/vnd.jupyter.widget-view+json": {
       "version_major": 2,
       "version_minor": 0,
       "model_id": "a27bdc78cfed4f6cb869bbe2225c6f93"
      }
     },
     "metadata": {},
     "output_type": "display_data"
    },
    {
     "name": "stderr",
     "output_type": "stream",
     "text": [
      "PartitionExplainer explainer:  32%|███▏      | 76/234 [28:43<1:05:06, 24.73s/it]"
     ]
    },
    {
     "data": {
      "text/plain": "  0%|          | 0/498 [00:00<?, ?it/s]",
      "application/vnd.jupyter.widget-view+json": {
       "version_major": 2,
       "version_minor": 0,
       "model_id": "c92a1c8bb9544b86830ac996352786c0"
      }
     },
     "metadata": {},
     "output_type": "display_data"
    },
    {
     "name": "stderr",
     "output_type": "stream",
     "text": [
      "PartitionExplainer explainer:  33%|███▎      | 77/234 [29:08<1:04:56, 24.82s/it]"
     ]
    },
    {
     "data": {
      "text/plain": "  0%|          | 0/498 [00:00<?, ?it/s]",
      "application/vnd.jupyter.widget-view+json": {
       "version_major": 2,
       "version_minor": 0,
       "model_id": "fff948586a7f438f95fcd5fd586b3b91"
      }
     },
     "metadata": {},
     "output_type": "display_data"
    },
    {
     "name": "stderr",
     "output_type": "stream",
     "text": [
      "PartitionExplainer explainer:  33%|███▎      | 78/234 [29:33<1:04:41, 24.88s/it]"
     ]
    },
    {
     "data": {
      "text/plain": "  0%|          | 0/498 [00:00<?, ?it/s]",
      "application/vnd.jupyter.widget-view+json": {
       "version_major": 2,
       "version_minor": 0,
       "model_id": "a001f538d0f041d696a673f8ebe82b2e"
      }
     },
     "metadata": {},
     "output_type": "display_data"
    },
    {
     "name": "stderr",
     "output_type": "stream",
     "text": [
      "PartitionExplainer explainer:  34%|███▍      | 79/234 [29:57<1:03:48, 24.70s/it]"
     ]
    },
    {
     "data": {
      "text/plain": "  0%|          | 0/498 [00:00<?, ?it/s]",
      "application/vnd.jupyter.widget-view+json": {
       "version_major": 2,
       "version_minor": 0,
       "model_id": "9c0dd31c5f574b009bf9aef5a950b191"
      }
     },
     "metadata": {},
     "output_type": "display_data"
    },
    {
     "name": "stderr",
     "output_type": "stream",
     "text": [
      "PartitionExplainer explainer:  34%|███▍      | 80/234 [30:22<1:03:31, 24.75s/it]"
     ]
    },
    {
     "data": {
      "text/plain": "  0%|          | 0/498 [00:00<?, ?it/s]",
      "application/vnd.jupyter.widget-view+json": {
       "version_major": 2,
       "version_minor": 0,
       "model_id": "0cb5f91a954d4f589e98035a89eb84ad"
      }
     },
     "metadata": {},
     "output_type": "display_data"
    },
    {
     "name": "stderr",
     "output_type": "stream",
     "text": [
      "PartitionExplainer explainer:  35%|███▍      | 81/234 [30:47<1:03:05, 24.74s/it]"
     ]
    },
    {
     "data": {
      "text/plain": "  0%|          | 0/498 [00:00<?, ?it/s]",
      "application/vnd.jupyter.widget-view+json": {
       "version_major": 2,
       "version_minor": 0,
       "model_id": "4dda89a7c8b442da9205d86673667b62"
      }
     },
     "metadata": {},
     "output_type": "display_data"
    },
    {
     "name": "stderr",
     "output_type": "stream",
     "text": [
      "PartitionExplainer explainer:  35%|███▌      | 82/234 [31:12<1:03:04, 24.90s/it]"
     ]
    },
    {
     "data": {
      "text/plain": "  0%|          | 0/498 [00:00<?, ?it/s]",
      "application/vnd.jupyter.widget-view+json": {
       "version_major": 2,
       "version_minor": 0,
       "model_id": "611145bf2a454779806d31426ff9ee96"
      }
     },
     "metadata": {},
     "output_type": "display_data"
    },
    {
     "name": "stderr",
     "output_type": "stream",
     "text": [
      "PartitionExplainer explainer:  35%|███▌      | 83/234 [31:38<1:03:08, 25.09s/it]"
     ]
    },
    {
     "data": {
      "text/plain": "  0%|          | 0/498 [00:00<?, ?it/s]",
      "application/vnd.jupyter.widget-view+json": {
       "version_major": 2,
       "version_minor": 0,
       "model_id": "860eff0366234a3aba26cdb04c309b2f"
      }
     },
     "metadata": {},
     "output_type": "display_data"
    },
    {
     "name": "stderr",
     "output_type": "stream",
     "text": [
      "PartitionExplainer explainer:  36%|███▌      | 84/234 [32:03<1:02:38, 25.06s/it]"
     ]
    },
    {
     "data": {
      "text/plain": "  0%|          | 0/498 [00:00<?, ?it/s]",
      "application/vnd.jupyter.widget-view+json": {
       "version_major": 2,
       "version_minor": 0,
       "model_id": "2b7b2a15f1374269a703ad18e76dc25c"
      }
     },
     "metadata": {},
     "output_type": "display_data"
    },
    {
     "name": "stderr",
     "output_type": "stream",
     "text": [
      "PartitionExplainer explainer:  36%|███▋      | 85/234 [32:27<1:01:59, 24.96s/it]"
     ]
    },
    {
     "data": {
      "text/plain": "  0%|          | 0/498 [00:00<?, ?it/s]",
      "application/vnd.jupyter.widget-view+json": {
       "version_major": 2,
       "version_minor": 0,
       "model_id": "1ef327dbfac1475eb28fc7eb8aa481de"
      }
     },
     "metadata": {},
     "output_type": "display_data"
    },
    {
     "name": "stderr",
     "output_type": "stream",
     "text": [
      "PartitionExplainer explainer:  37%|███▋      | 86/234 [32:53<1:01:48, 25.06s/it]"
     ]
    },
    {
     "data": {
      "text/plain": "  0%|          | 0/498 [00:00<?, ?it/s]",
      "application/vnd.jupyter.widget-view+json": {
       "version_major": 2,
       "version_minor": 0,
       "model_id": "a5e9d8e3386d4292a60756df1a86a764"
      }
     },
     "metadata": {},
     "output_type": "display_data"
    },
    {
     "name": "stderr",
     "output_type": "stream",
     "text": [
      "PartitionExplainer explainer:  37%|███▋      | 87/234 [33:18<1:01:36, 25.14s/it]"
     ]
    },
    {
     "data": {
      "text/plain": "  0%|          | 0/498 [00:00<?, ?it/s]",
      "application/vnd.jupyter.widget-view+json": {
       "version_major": 2,
       "version_minor": 0,
       "model_id": "5de8a372f8c2446c9b1f12d3b8566140"
      }
     },
     "metadata": {},
     "output_type": "display_data"
    },
    {
     "name": "stderr",
     "output_type": "stream",
     "text": [
      "PartitionExplainer explainer:  38%|███▊      | 88/234 [33:43<1:01:22, 25.23s/it]"
     ]
    },
    {
     "data": {
      "text/plain": "  0%|          | 0/498 [00:00<?, ?it/s]",
      "application/vnd.jupyter.widget-view+json": {
       "version_major": 2,
       "version_minor": 0,
       "model_id": "da90a26377474e32b790986b570edca4"
      }
     },
     "metadata": {},
     "output_type": "display_data"
    },
    {
     "name": "stderr",
     "output_type": "stream",
     "text": [
      "PartitionExplainer explainer:  38%|███▊      | 89/234 [34:08<1:00:36, 25.08s/it]"
     ]
    },
    {
     "data": {
      "text/plain": "  0%|          | 0/498 [00:00<?, ?it/s]",
      "application/vnd.jupyter.widget-view+json": {
       "version_major": 2,
       "version_minor": 0,
       "model_id": "db18318556b4427dbf353e29a86b9def"
      }
     },
     "metadata": {},
     "output_type": "display_data"
    },
    {
     "name": "stderr",
     "output_type": "stream",
     "text": [
      "PartitionExplainer explainer:  38%|███▊      | 90/234 [34:33<1:00:00, 25.00s/it]"
     ]
    },
    {
     "data": {
      "text/plain": "  0%|          | 0/498 [00:00<?, ?it/s]",
      "application/vnd.jupyter.widget-view+json": {
       "version_major": 2,
       "version_minor": 0,
       "model_id": "aff0767c55a445e8b29a091dec60fc69"
      }
     },
     "metadata": {},
     "output_type": "display_data"
    },
    {
     "name": "stderr",
     "output_type": "stream",
     "text": [
      "PartitionExplainer explainer:  39%|███▉      | 91/234 [34:58<59:23, 24.92s/it]  "
     ]
    },
    {
     "data": {
      "text/plain": "  0%|          | 0/498 [00:00<?, ?it/s]",
      "application/vnd.jupyter.widget-view+json": {
       "version_major": 2,
       "version_minor": 0,
       "model_id": "de705d41c88e4c34937f91de68f9589b"
      }
     },
     "metadata": {},
     "output_type": "display_data"
    },
    {
     "name": "stderr",
     "output_type": "stream",
     "text": [
      "PartitionExplainer explainer:  39%|███▉      | 92/234 [35:22<58:51, 24.87s/it]"
     ]
    },
    {
     "data": {
      "text/plain": "  0%|          | 0/498 [00:00<?, ?it/s]",
      "application/vnd.jupyter.widget-view+json": {
       "version_major": 2,
       "version_minor": 0,
       "model_id": "bbbcf89093ac4b6d9bb932452b3c9bcf"
      }
     },
     "metadata": {},
     "output_type": "display_data"
    },
    {
     "name": "stderr",
     "output_type": "stream",
     "text": [
      "PartitionExplainer explainer:  40%|███▉      | 93/234 [35:47<58:17, 24.80s/it]"
     ]
    },
    {
     "data": {
      "text/plain": "  0%|          | 0/498 [00:00<?, ?it/s]",
      "application/vnd.jupyter.widget-view+json": {
       "version_major": 2,
       "version_minor": 0,
       "model_id": "2d498b2dec4345a18bc7437b8c2cf655"
      }
     },
     "metadata": {},
     "output_type": "display_data"
    },
    {
     "name": "stderr",
     "output_type": "stream",
     "text": [
      "PartitionExplainer explainer:  40%|████      | 94/234 [36:12<58:06, 24.90s/it]"
     ]
    },
    {
     "data": {
      "text/plain": "  0%|          | 0/498 [00:00<?, ?it/s]",
      "application/vnd.jupyter.widget-view+json": {
       "version_major": 2,
       "version_minor": 0,
       "model_id": "7766c13d510f4f429c47a182ff781224"
      }
     },
     "metadata": {},
     "output_type": "display_data"
    },
    {
     "name": "stderr",
     "output_type": "stream",
     "text": [
      "PartitionExplainer explainer:  41%|████      | 95/234 [36:38<58:03, 25.06s/it]"
     ]
    },
    {
     "data": {
      "text/plain": "  0%|          | 0/498 [00:00<?, ?it/s]",
      "application/vnd.jupyter.widget-view+json": {
       "version_major": 2,
       "version_minor": 0,
       "model_id": "601508448f2445579ce4f614438c7117"
      }
     },
     "metadata": {},
     "output_type": "display_data"
    },
    {
     "name": "stderr",
     "output_type": "stream",
     "text": [
      "PartitionExplainer explainer:  41%|████      | 96/234 [37:03<57:42, 25.09s/it]"
     ]
    },
    {
     "data": {
      "text/plain": "  0%|          | 0/498 [00:00<?, ?it/s]",
      "application/vnd.jupyter.widget-view+json": {
       "version_major": 2,
       "version_minor": 0,
       "model_id": "f3cbe398d28143f6bad3cd5519a0ecfe"
      }
     },
     "metadata": {},
     "output_type": "display_data"
    },
    {
     "name": "stderr",
     "output_type": "stream",
     "text": [
      "PartitionExplainer explainer:  41%|████▏     | 97/234 [37:26<56:19, 24.66s/it]"
     ]
    },
    {
     "data": {
      "text/plain": "  0%|          | 0/498 [00:00<?, ?it/s]",
      "application/vnd.jupyter.widget-view+json": {
       "version_major": 2,
       "version_minor": 0,
       "model_id": "30ff4cf7d7e64f60b12d1e15d6f33bdc"
      }
     },
     "metadata": {},
     "output_type": "display_data"
    },
    {
     "name": "stderr",
     "output_type": "stream",
     "text": [
      "PartitionExplainer explainer:  42%|████▏     | 98/234 [37:50<55:16, 24.38s/it]"
     ]
    },
    {
     "data": {
      "text/plain": "  0%|          | 0/498 [00:00<?, ?it/s]",
      "application/vnd.jupyter.widget-view+json": {
       "version_major": 2,
       "version_minor": 0,
       "model_id": "be50d579321a4255bad381dd8564d3ae"
      }
     },
     "metadata": {},
     "output_type": "display_data"
    },
    {
     "name": "stderr",
     "output_type": "stream",
     "text": [
      "PartitionExplainer explainer:  42%|████▏     | 99/234 [38:15<55:23, 24.62s/it]"
     ]
    },
    {
     "data": {
      "text/plain": "  0%|          | 0/498 [00:00<?, ?it/s]",
      "application/vnd.jupyter.widget-view+json": {
       "version_major": 2,
       "version_minor": 0,
       "model_id": "aa9bf785bea54f5ab5995fb126e06730"
      }
     },
     "metadata": {},
     "output_type": "display_data"
    },
    {
     "name": "stderr",
     "output_type": "stream",
     "text": [
      "PartitionExplainer explainer:  43%|████▎     | 100/234 [38:40<54:50, 24.56s/it]"
     ]
    },
    {
     "data": {
      "text/plain": "  0%|          | 0/498 [00:00<?, ?it/s]",
      "application/vnd.jupyter.widget-view+json": {
       "version_major": 2,
       "version_minor": 0,
       "model_id": "6901836bb75c46de8dda93b31bba14b4"
      }
     },
     "metadata": {},
     "output_type": "display_data"
    },
    {
     "name": "stderr",
     "output_type": "stream",
     "text": [
      "PartitionExplainer explainer:  43%|████▎     | 101/234 [39:04<54:06, 24.41s/it]"
     ]
    },
    {
     "data": {
      "text/plain": "  0%|          | 0/498 [00:00<?, ?it/s]",
      "application/vnd.jupyter.widget-view+json": {
       "version_major": 2,
       "version_minor": 0,
       "model_id": "d1fe3e2dee274b5597889f01e5037147"
      }
     },
     "metadata": {},
     "output_type": "display_data"
    },
    {
     "name": "stderr",
     "output_type": "stream",
     "text": [
      "PartitionExplainer explainer:  44%|████▎     | 102/234 [39:28<53:25, 24.28s/it]"
     ]
    },
    {
     "data": {
      "text/plain": "  0%|          | 0/498 [00:00<?, ?it/s]",
      "application/vnd.jupyter.widget-view+json": {
       "version_major": 2,
       "version_minor": 0,
       "model_id": "be1472a7b4ba43c68304274a69f70223"
      }
     },
     "metadata": {},
     "output_type": "display_data"
    },
    {
     "name": "stderr",
     "output_type": "stream",
     "text": [
      "PartitionExplainer explainer:  44%|████▍     | 103/234 [39:52<52:58, 24.26s/it]"
     ]
    },
    {
     "data": {
      "text/plain": "  0%|          | 0/498 [00:00<?, ?it/s]",
      "application/vnd.jupyter.widget-view+json": {
       "version_major": 2,
       "version_minor": 0,
       "model_id": "f4ca6ecf339d430ab14af74b77033a70"
      }
     },
     "metadata": {},
     "output_type": "display_data"
    },
    {
     "name": "stderr",
     "output_type": "stream",
     "text": [
      "PartitionExplainer explainer:  44%|████▍     | 104/234 [40:16<52:07, 24.06s/it]"
     ]
    },
    {
     "data": {
      "text/plain": "  0%|          | 0/498 [00:00<?, ?it/s]",
      "application/vnd.jupyter.widget-view+json": {
       "version_major": 2,
       "version_minor": 0,
       "model_id": "df6f4ff24af1411c9e3d65067dd4e6e5"
      }
     },
     "metadata": {},
     "output_type": "display_data"
    },
    {
     "name": "stderr",
     "output_type": "stream",
     "text": [
      "PartitionExplainer explainer:  45%|████▍     | 105/234 [40:39<51:19, 23.87s/it]"
     ]
    },
    {
     "data": {
      "text/plain": "  0%|          | 0/498 [00:00<?, ?it/s]",
      "application/vnd.jupyter.widget-view+json": {
       "version_major": 2,
       "version_minor": 0,
       "model_id": "a838e28f4dc14789b62599430747cca3"
      }
     },
     "metadata": {},
     "output_type": "display_data"
    },
    {
     "name": "stderr",
     "output_type": "stream",
     "text": [
      "PartitionExplainer explainer:  45%|████▌     | 106/234 [41:03<50:40, 23.76s/it]"
     ]
    },
    {
     "data": {
      "text/plain": "  0%|          | 0/498 [00:00<?, ?it/s]",
      "application/vnd.jupyter.widget-view+json": {
       "version_major": 2,
       "version_minor": 0,
       "model_id": "21097bb479ba4a25958034f6d10ee996"
      }
     },
     "metadata": {},
     "output_type": "display_data"
    },
    {
     "name": "stderr",
     "output_type": "stream",
     "text": [
      "PartitionExplainer explainer:  46%|████▌     | 107/234 [41:26<50:11, 23.71s/it]"
     ]
    },
    {
     "data": {
      "text/plain": "  0%|          | 0/498 [00:00<?, ?it/s]",
      "application/vnd.jupyter.widget-view+json": {
       "version_major": 2,
       "version_minor": 0,
       "model_id": "3c34b49019a34468b3a86226347a6f9a"
      }
     },
     "metadata": {},
     "output_type": "display_data"
    },
    {
     "name": "stderr",
     "output_type": "stream",
     "text": [
      "PartitionExplainer explainer:  46%|████▌     | 108/234 [41:50<49:38, 23.64s/it]"
     ]
    },
    {
     "data": {
      "text/plain": "  0%|          | 0/498 [00:00<?, ?it/s]",
      "application/vnd.jupyter.widget-view+json": {
       "version_major": 2,
       "version_minor": 0,
       "model_id": "8dfca547525e4bd1a0e53f5f6026436c"
      }
     },
     "metadata": {},
     "output_type": "display_data"
    },
    {
     "name": "stderr",
     "output_type": "stream",
     "text": [
      "PartitionExplainer explainer:  47%|████▋     | 109/234 [42:13<49:12, 23.62s/it]"
     ]
    },
    {
     "data": {
      "text/plain": "  0%|          | 0/498 [00:00<?, ?it/s]",
      "application/vnd.jupyter.widget-view+json": {
       "version_major": 2,
       "version_minor": 0,
       "model_id": "5742ed83748346bbbbec09e6b1307fee"
      }
     },
     "metadata": {},
     "output_type": "display_data"
    },
    {
     "name": "stderr",
     "output_type": "stream",
     "text": [
      "PartitionExplainer explainer:  47%|████▋     | 110/234 [42:37<48:48, 23.62s/it]"
     ]
    },
    {
     "data": {
      "text/plain": "  0%|          | 0/498 [00:00<?, ?it/s]",
      "application/vnd.jupyter.widget-view+json": {
       "version_major": 2,
       "version_minor": 0,
       "model_id": "07bdf99ac555444e8b611038062a6659"
      }
     },
     "metadata": {},
     "output_type": "display_data"
    },
    {
     "name": "stderr",
     "output_type": "stream",
     "text": [
      "PartitionExplainer explainer:  47%|████▋     | 111/234 [43:00<48:25, 23.62s/it]"
     ]
    },
    {
     "data": {
      "text/plain": "  0%|          | 0/498 [00:00<?, ?it/s]",
      "application/vnd.jupyter.widget-view+json": {
       "version_major": 2,
       "version_minor": 0,
       "model_id": "53cc2db2eddc48528a369a074bdfb657"
      }
     },
     "metadata": {},
     "output_type": "display_data"
    },
    {
     "name": "stderr",
     "output_type": "stream",
     "text": [
      "PartitionExplainer explainer:  48%|████▊     | 112/234 [43:24<47:59, 23.60s/it]"
     ]
    },
    {
     "data": {
      "text/plain": "  0%|          | 0/498 [00:00<?, ?it/s]",
      "application/vnd.jupyter.widget-view+json": {
       "version_major": 2,
       "version_minor": 0,
       "model_id": "1abe55b341b44f8f81ab2340b18a70a2"
      }
     },
     "metadata": {},
     "output_type": "display_data"
    },
    {
     "name": "stderr",
     "output_type": "stream",
     "text": [
      "PartitionExplainer explainer:  48%|████▊     | 113/234 [43:48<47:35, 23.60s/it]"
     ]
    },
    {
     "data": {
      "text/plain": "  0%|          | 0/498 [00:00<?, ?it/s]",
      "application/vnd.jupyter.widget-view+json": {
       "version_major": 2,
       "version_minor": 0,
       "model_id": "e506255b45b1470fa4038958ad38ce6c"
      }
     },
     "metadata": {},
     "output_type": "display_data"
    },
    {
     "name": "stderr",
     "output_type": "stream",
     "text": [
      "PartitionExplainer explainer:  49%|████▊     | 114/234 [44:11<47:16, 23.63s/it]"
     ]
    },
    {
     "data": {
      "text/plain": "  0%|          | 0/498 [00:00<?, ?it/s]",
      "application/vnd.jupyter.widget-view+json": {
       "version_major": 2,
       "version_minor": 0,
       "model_id": "c5de8f23d5464d48b98fdc29926ef962"
      }
     },
     "metadata": {},
     "output_type": "display_data"
    },
    {
     "name": "stderr",
     "output_type": "stream",
     "text": [
      "PartitionExplainer explainer:  49%|████▉     | 115/234 [44:36<47:17, 23.85s/it]"
     ]
    },
    {
     "data": {
      "text/plain": "  0%|          | 0/498 [00:00<?, ?it/s]",
      "application/vnd.jupyter.widget-view+json": {
       "version_major": 2,
       "version_minor": 0,
       "model_id": "0a51f1647fa747789f48086b8fa16f18"
      }
     },
     "metadata": {},
     "output_type": "display_data"
    },
    {
     "name": "stderr",
     "output_type": "stream",
     "text": [
      "PartitionExplainer explainer:  50%|████▉     | 116/234 [45:01<47:31, 24.16s/it]"
     ]
    },
    {
     "data": {
      "text/plain": "  0%|          | 0/498 [00:00<?, ?it/s]",
      "application/vnd.jupyter.widget-view+json": {
       "version_major": 2,
       "version_minor": 0,
       "model_id": "4dbdaeb8f074484fb218ea37009ab32a"
      }
     },
     "metadata": {},
     "output_type": "display_data"
    },
    {
     "name": "stderr",
     "output_type": "stream",
     "text": [
      "PartitionExplainer explainer:  50%|█████     | 117/234 [45:25<47:30, 24.36s/it]"
     ]
    },
    {
     "data": {
      "text/plain": "  0%|          | 0/498 [00:00<?, ?it/s]",
      "application/vnd.jupyter.widget-view+json": {
       "version_major": 2,
       "version_minor": 0,
       "model_id": "8878975dfb4c4446920bc7b5de2355b5"
      }
     },
     "metadata": {},
     "output_type": "display_data"
    },
    {
     "name": "stderr",
     "output_type": "stream",
     "text": [
      "PartitionExplainer explainer:  50%|█████     | 118/234 [45:50<47:22, 24.51s/it]"
     ]
    },
    {
     "data": {
      "text/plain": "  0%|          | 0/498 [00:00<?, ?it/s]",
      "application/vnd.jupyter.widget-view+json": {
       "version_major": 2,
       "version_minor": 0,
       "model_id": "dd4f5577abde44ea85d7c7d417effb5c"
      }
     },
     "metadata": {},
     "output_type": "display_data"
    },
    {
     "name": "stderr",
     "output_type": "stream",
     "text": [
      "PartitionExplainer explainer:  51%|█████     | 119/234 [46:15<47:12, 24.63s/it]"
     ]
    },
    {
     "data": {
      "text/plain": "  0%|          | 0/498 [00:00<?, ?it/s]",
      "application/vnd.jupyter.widget-view+json": {
       "version_major": 2,
       "version_minor": 0,
       "model_id": "dff8f96c603c47588ad3778386570042"
      }
     },
     "metadata": {},
     "output_type": "display_data"
    },
    {
     "name": "stderr",
     "output_type": "stream",
     "text": [
      "PartitionExplainer explainer:  51%|█████▏    | 120/234 [46:39<46:33, 24.50s/it]"
     ]
    },
    {
     "data": {
      "text/plain": "  0%|          | 0/498 [00:00<?, ?it/s]",
      "application/vnd.jupyter.widget-view+json": {
       "version_major": 2,
       "version_minor": 0,
       "model_id": "ab80891288ba4cd7a6c9541803cdd1eb"
      }
     },
     "metadata": {},
     "output_type": "display_data"
    },
    {
     "name": "stderr",
     "output_type": "stream",
     "text": [
      "PartitionExplainer explainer:  52%|█████▏    | 121/234 [47:03<45:43, 24.27s/it]"
     ]
    },
    {
     "data": {
      "text/plain": "  0%|          | 0/498 [00:00<?, ?it/s]",
      "application/vnd.jupyter.widget-view+json": {
       "version_major": 2,
       "version_minor": 0,
       "model_id": "f061ebf28d384107a917a5a1c221c223"
      }
     },
     "metadata": {},
     "output_type": "display_data"
    },
    {
     "name": "stderr",
     "output_type": "stream",
     "text": [
      "PartitionExplainer explainer:  52%|█████▏    | 122/234 [47:27<45:03, 24.14s/it]"
     ]
    },
    {
     "data": {
      "text/plain": "  0%|          | 0/498 [00:00<?, ?it/s]",
      "application/vnd.jupyter.widget-view+json": {
       "version_major": 2,
       "version_minor": 0,
       "model_id": "dce231f452584372b68ad11e4e7b3f12"
      }
     },
     "metadata": {},
     "output_type": "display_data"
    },
    {
     "name": "stderr",
     "output_type": "stream",
     "text": [
      "PartitionExplainer explainer:  53%|█████▎    | 123/234 [47:51<44:27, 24.03s/it]"
     ]
    },
    {
     "data": {
      "text/plain": "  0%|          | 0/498 [00:00<?, ?it/s]",
      "application/vnd.jupyter.widget-view+json": {
       "version_major": 2,
       "version_minor": 0,
       "model_id": "e9e029c1f1754da3a05f3994ab3bd17f"
      }
     },
     "metadata": {},
     "output_type": "display_data"
    },
    {
     "name": "stderr",
     "output_type": "stream",
     "text": [
      "PartitionExplainer explainer:  53%|█████▎    | 124/234 [48:15<44:00, 24.01s/it]"
     ]
    },
    {
     "data": {
      "text/plain": "  0%|          | 0/498 [00:00<?, ?it/s]",
      "application/vnd.jupyter.widget-view+json": {
       "version_major": 2,
       "version_minor": 0,
       "model_id": "eab4887310cc4662a228e92e63e5f920"
      }
     },
     "metadata": {},
     "output_type": "display_data"
    },
    {
     "name": "stderr",
     "output_type": "stream",
     "text": [
      "PartitionExplainer explainer:  53%|█████▎    | 125/234 [48:39<43:33, 23.98s/it]"
     ]
    },
    {
     "data": {
      "text/plain": "  0%|          | 0/498 [00:00<?, ?it/s]",
      "application/vnd.jupyter.widget-view+json": {
       "version_major": 2,
       "version_minor": 0,
       "model_id": "59f3de08bece44d39ab026531d08d7ad"
      }
     },
     "metadata": {},
     "output_type": "display_data"
    },
    {
     "name": "stderr",
     "output_type": "stream",
     "text": [
      "PartitionExplainer explainer:  54%|█████▍    | 126/234 [49:03<43:09, 23.98s/it]"
     ]
    },
    {
     "data": {
      "text/plain": "  0%|          | 0/498 [00:00<?, ?it/s]",
      "application/vnd.jupyter.widget-view+json": {
       "version_major": 2,
       "version_minor": 0,
       "model_id": "48864699fc2545ce9be8bda4a20d9d73"
      }
     },
     "metadata": {},
     "output_type": "display_data"
    },
    {
     "name": "stderr",
     "output_type": "stream",
     "text": [
      "PartitionExplainer explainer:  54%|█████▍    | 127/234 [49:27<43:07, 24.19s/it]"
     ]
    },
    {
     "data": {
      "text/plain": "  0%|          | 0/498 [00:00<?, ?it/s]",
      "application/vnd.jupyter.widget-view+json": {
       "version_major": 2,
       "version_minor": 0,
       "model_id": "495d236a50d44ca4996ad6515860210e"
      }
     },
     "metadata": {},
     "output_type": "display_data"
    },
    {
     "name": "stderr",
     "output_type": "stream",
     "text": [
      "PartitionExplainer explainer:  55%|█████▍    | 128/234 [49:52<43:10, 24.43s/it]"
     ]
    },
    {
     "data": {
      "text/plain": "  0%|          | 0/498 [00:00<?, ?it/s]",
      "application/vnd.jupyter.widget-view+json": {
       "version_major": 2,
       "version_minor": 0,
       "model_id": "6727f1b225fe445db86b75b1b30fd92f"
      }
     },
     "metadata": {},
     "output_type": "display_data"
    },
    {
     "name": "stderr",
     "output_type": "stream",
     "text": [
      "PartitionExplainer explainer:  55%|█████▌    | 129/234 [50:17<43:01, 24.58s/it]"
     ]
    },
    {
     "data": {
      "text/plain": "  0%|          | 0/498 [00:00<?, ?it/s]",
      "application/vnd.jupyter.widget-view+json": {
       "version_major": 2,
       "version_minor": 0,
       "model_id": "a69236b2b9794f4c8117e71ff17ccb01"
      }
     },
     "metadata": {},
     "output_type": "display_data"
    },
    {
     "name": "stderr",
     "output_type": "stream",
     "text": [
      "PartitionExplainer explainer:  56%|█████▌    | 130/234 [50:42<42:42, 24.64s/it]"
     ]
    },
    {
     "data": {
      "text/plain": "  0%|          | 0/498 [00:00<?, ?it/s]",
      "application/vnd.jupyter.widget-view+json": {
       "version_major": 2,
       "version_minor": 0,
       "model_id": "bde54150c96046798e7b1d6b6fd9db1f"
      }
     },
     "metadata": {},
     "output_type": "display_data"
    },
    {
     "name": "stderr",
     "output_type": "stream",
     "text": [
      "PartitionExplainer explainer:  56%|█████▌    | 131/234 [51:07<42:22, 24.68s/it]"
     ]
    },
    {
     "data": {
      "text/plain": "  0%|          | 0/498 [00:00<?, ?it/s]",
      "application/vnd.jupyter.widget-view+json": {
       "version_major": 2,
       "version_minor": 0,
       "model_id": "f300627a1af64ed09bc1993058b9bd5e"
      }
     },
     "metadata": {},
     "output_type": "display_data"
    },
    {
     "name": "stderr",
     "output_type": "stream",
     "text": [
      "PartitionExplainer explainer:  56%|█████▋    | 132/234 [51:30<41:26, 24.37s/it]"
     ]
    },
    {
     "data": {
      "text/plain": "  0%|          | 0/498 [00:00<?, ?it/s]",
      "application/vnd.jupyter.widget-view+json": {
       "version_major": 2,
       "version_minor": 0,
       "model_id": "34c5d4b4bced4b8d90a03b25319f28fa"
      }
     },
     "metadata": {},
     "output_type": "display_data"
    },
    {
     "name": "stderr",
     "output_type": "stream",
     "text": [
      "PartitionExplainer explainer:  57%|█████▋    | 133/234 [51:54<40:47, 24.23s/it]"
     ]
    },
    {
     "data": {
      "text/plain": "  0%|          | 0/498 [00:00<?, ?it/s]",
      "application/vnd.jupyter.widget-view+json": {
       "version_major": 2,
       "version_minor": 0,
       "model_id": "f8a6162262484686abb9c7ba336f169c"
      }
     },
     "metadata": {},
     "output_type": "display_data"
    },
    {
     "name": "stderr",
     "output_type": "stream",
     "text": [
      "PartitionExplainer explainer:  57%|█████▋    | 134/234 [52:18<40:23, 24.23s/it]"
     ]
    },
    {
     "data": {
      "text/plain": "  0%|          | 0/498 [00:00<?, ?it/s]",
      "application/vnd.jupyter.widget-view+json": {
       "version_major": 2,
       "version_minor": 0,
       "model_id": "0c1fbf4cd71f45deb4e15ac58bd8ccff"
      }
     },
     "metadata": {},
     "output_type": "display_data"
    },
    {
     "name": "stderr",
     "output_type": "stream",
     "text": [
      "PartitionExplainer explainer:  58%|█████▊    | 135/234 [52:43<40:17, 24.42s/it]"
     ]
    },
    {
     "data": {
      "text/plain": "  0%|          | 0/498 [00:00<?, ?it/s]",
      "application/vnd.jupyter.widget-view+json": {
       "version_major": 2,
       "version_minor": 0,
       "model_id": "2375adffd4b2428883fd262ad8fa6530"
      }
     },
     "metadata": {},
     "output_type": "display_data"
    },
    {
     "name": "stderr",
     "output_type": "stream",
     "text": [
      "PartitionExplainer explainer:  58%|█████▊    | 136/234 [53:08<40:07, 24.56s/it]"
     ]
    },
    {
     "data": {
      "text/plain": "  0%|          | 0/498 [00:00<?, ?it/s]",
      "application/vnd.jupyter.widget-view+json": {
       "version_major": 2,
       "version_minor": 0,
       "model_id": "a8a9975c044744b7837adf624e2769ba"
      }
     },
     "metadata": {},
     "output_type": "display_data"
    },
    {
     "name": "stderr",
     "output_type": "stream",
     "text": [
      "PartitionExplainer explainer:  59%|█████▊    | 137/234 [53:33<39:46, 24.60s/it]"
     ]
    },
    {
     "data": {
      "text/plain": "  0%|          | 0/498 [00:00<?, ?it/s]",
      "application/vnd.jupyter.widget-view+json": {
       "version_major": 2,
       "version_minor": 0,
       "model_id": "c12fabf974604d879c934fd9f06a220e"
      }
     },
     "metadata": {},
     "output_type": "display_data"
    },
    {
     "name": "stderr",
     "output_type": "stream",
     "text": [
      "PartitionExplainer explainer:  59%|█████▉    | 138/234 [53:58<39:31, 24.70s/it]"
     ]
    },
    {
     "data": {
      "text/plain": "  0%|          | 0/498 [00:00<?, ?it/s]",
      "application/vnd.jupyter.widget-view+json": {
       "version_major": 2,
       "version_minor": 0,
       "model_id": "a23320e65de04cecb16f6cb6529696a2"
      }
     },
     "metadata": {},
     "output_type": "display_data"
    },
    {
     "name": "stderr",
     "output_type": "stream",
     "text": [
      "PartitionExplainer explainer:  59%|█████▉    | 139/234 [54:23<39:12, 24.76s/it]"
     ]
    },
    {
     "data": {
      "text/plain": "  0%|          | 0/498 [00:00<?, ?it/s]",
      "application/vnd.jupyter.widget-view+json": {
       "version_major": 2,
       "version_minor": 0,
       "model_id": "43c75755d02840c0853733c69ebad154"
      }
     },
     "metadata": {},
     "output_type": "display_data"
    },
    {
     "name": "stderr",
     "output_type": "stream",
     "text": [
      "PartitionExplainer explainer:  60%|█████▉    | 140/234 [54:48<38:57, 24.87s/it]"
     ]
    },
    {
     "data": {
      "text/plain": "  0%|          | 0/498 [00:00<?, ?it/s]",
      "application/vnd.jupyter.widget-view+json": {
       "version_major": 2,
       "version_minor": 0,
       "model_id": "0648e7b05b42415fb053ed5ea74e30f9"
      }
     },
     "metadata": {},
     "output_type": "display_data"
    },
    {
     "name": "stderr",
     "output_type": "stream",
     "text": [
      "PartitionExplainer explainer:  60%|██████    | 141/234 [55:13<38:36, 24.90s/it]"
     ]
    },
    {
     "data": {
      "text/plain": "  0%|          | 0/498 [00:00<?, ?it/s]",
      "application/vnd.jupyter.widget-view+json": {
       "version_major": 2,
       "version_minor": 0,
       "model_id": "8b5a9d6a74134bc893b78de450618cdf"
      }
     },
     "metadata": {},
     "output_type": "display_data"
    },
    {
     "name": "stderr",
     "output_type": "stream",
     "text": [
      "PartitionExplainer explainer:  61%|██████    | 142/234 [55:38<38:09, 24.89s/it]"
     ]
    },
    {
     "data": {
      "text/plain": "  0%|          | 0/498 [00:00<?, ?it/s]",
      "application/vnd.jupyter.widget-view+json": {
       "version_major": 2,
       "version_minor": 0,
       "model_id": "16156aa7ecff48d0bcf48fadb23c35d0"
      }
     },
     "metadata": {},
     "output_type": "display_data"
    },
    {
     "name": "stderr",
     "output_type": "stream",
     "text": [
      "PartitionExplainer explainer:  61%|██████    | 143/234 [56:03<37:46, 24.91s/it]"
     ]
    },
    {
     "data": {
      "text/plain": "  0%|          | 0/498 [00:00<?, ?it/s]",
      "application/vnd.jupyter.widget-view+json": {
       "version_major": 2,
       "version_minor": 0,
       "model_id": "fbf0bae44ffc4d64bc077c5f34839557"
      }
     },
     "metadata": {},
     "output_type": "display_data"
    },
    {
     "name": "stderr",
     "output_type": "stream",
     "text": [
      "PartitionExplainer explainer:  62%|██████▏   | 144/234 [56:27<37:16, 24.85s/it]"
     ]
    },
    {
     "data": {
      "text/plain": "  0%|          | 0/498 [00:00<?, ?it/s]",
      "application/vnd.jupyter.widget-view+json": {
       "version_major": 2,
       "version_minor": 0,
       "model_id": "9f7acae889f14c4bad6b92adde24b8d6"
      }
     },
     "metadata": {},
     "output_type": "display_data"
    },
    {
     "name": "stderr",
     "output_type": "stream",
     "text": [
      "PartitionExplainer explainer:  62%|██████▏   | 145/234 [56:52<36:50, 24.84s/it]"
     ]
    },
    {
     "data": {
      "text/plain": "  0%|          | 0/498 [00:00<?, ?it/s]",
      "application/vnd.jupyter.widget-view+json": {
       "version_major": 2,
       "version_minor": 0,
       "model_id": "bb4ff435291e444e998e762f6ffa9a56"
      }
     },
     "metadata": {},
     "output_type": "display_data"
    },
    {
     "name": "stderr",
     "output_type": "stream",
     "text": [
      "PartitionExplainer explainer:  62%|██████▏   | 146/234 [57:17<36:31, 24.90s/it]"
     ]
    },
    {
     "data": {
      "text/plain": "  0%|          | 0/498 [00:00<?, ?it/s]",
      "application/vnd.jupyter.widget-view+json": {
       "version_major": 2,
       "version_minor": 0,
       "model_id": "d51da1b1f6944ecb8766a45c41ba52b7"
      }
     },
     "metadata": {},
     "output_type": "display_data"
    },
    {
     "name": "stderr",
     "output_type": "stream",
     "text": [
      "PartitionExplainer explainer:  63%|██████▎   | 147/234 [57:41<35:23, 24.41s/it]"
     ]
    },
    {
     "data": {
      "text/plain": "  0%|          | 0/498 [00:00<?, ?it/s]",
      "application/vnd.jupyter.widget-view+json": {
       "version_major": 2,
       "version_minor": 0,
       "model_id": "84a2f97d9bed4be0bf9001e78cf9696b"
      }
     },
     "metadata": {},
     "output_type": "display_data"
    },
    {
     "name": "stderr",
     "output_type": "stream",
     "text": [
      "PartitionExplainer explainer:  63%|██████▎   | 148/234 [58:04<34:24, 24.00s/it]"
     ]
    },
    {
     "data": {
      "text/plain": "  0%|          | 0/498 [00:00<?, ?it/s]",
      "application/vnd.jupyter.widget-view+json": {
       "version_major": 2,
       "version_minor": 0,
       "model_id": "3416c6e6a954478d8956529bab55e2cd"
      }
     },
     "metadata": {},
     "output_type": "display_data"
    },
    {
     "name": "stderr",
     "output_type": "stream",
     "text": [
      "PartitionExplainer explainer:  64%|██████▎   | 149/234 [58:27<33:37, 23.74s/it]"
     ]
    },
    {
     "data": {
      "text/plain": "  0%|          | 0/498 [00:00<?, ?it/s]",
      "application/vnd.jupyter.widget-view+json": {
       "version_major": 2,
       "version_minor": 0,
       "model_id": "3c19dd5c4c6b4dc5922f2ba69f53b3f9"
      }
     },
     "metadata": {},
     "output_type": "display_data"
    },
    {
     "name": "stderr",
     "output_type": "stream",
     "text": [
      "PartitionExplainer explainer:  64%|██████▍   | 150/234 [58:50<32:56, 23.53s/it]"
     ]
    },
    {
     "data": {
      "text/plain": "  0%|          | 0/498 [00:00<?, ?it/s]",
      "application/vnd.jupyter.widget-view+json": {
       "version_major": 2,
       "version_minor": 0,
       "model_id": "ffeac7e6cee84769b799d8de913ee6e6"
      }
     },
     "metadata": {},
     "output_type": "display_data"
    },
    {
     "name": "stderr",
     "output_type": "stream",
     "text": [
      "PartitionExplainer explainer:  65%|██████▍   | 151/234 [59:13<32:23, 23.42s/it]"
     ]
    },
    {
     "data": {
      "text/plain": "  0%|          | 0/498 [00:00<?, ?it/s]",
      "application/vnd.jupyter.widget-view+json": {
       "version_major": 2,
       "version_minor": 0,
       "model_id": "4d4492ef61654cba9b22224849e9d851"
      }
     },
     "metadata": {},
     "output_type": "display_data"
    },
    {
     "name": "stderr",
     "output_type": "stream",
     "text": [
      "PartitionExplainer explainer:  65%|██████▍   | 152/234 [59:36<31:56, 23.37s/it]"
     ]
    },
    {
     "data": {
      "text/plain": "  0%|          | 0/498 [00:00<?, ?it/s]",
      "application/vnd.jupyter.widget-view+json": {
       "version_major": 2,
       "version_minor": 0,
       "model_id": "ad064815c5d944948207f07741095567"
      }
     },
     "metadata": {},
     "output_type": "display_data"
    },
    {
     "name": "stderr",
     "output_type": "stream",
     "text": [
      "PartitionExplainer explainer:  65%|██████▌   | 153/234 [59:59<31:24, 23.27s/it]"
     ]
    },
    {
     "data": {
      "text/plain": "  0%|          | 0/498 [00:00<?, ?it/s]",
      "application/vnd.jupyter.widget-view+json": {
       "version_major": 2,
       "version_minor": 0,
       "model_id": "9e947effd7c247ae883e2973900cca80"
      }
     },
     "metadata": {},
     "output_type": "display_data"
    },
    {
     "name": "stderr",
     "output_type": "stream",
     "text": [
      "PartitionExplainer explainer:  66%|██████▌   | 154/234 [1:00:22<30:56, 23.21s/it]"
     ]
    },
    {
     "data": {
      "text/plain": "  0%|          | 0/498 [00:00<?, ?it/s]",
      "application/vnd.jupyter.widget-view+json": {
       "version_major": 2,
       "version_minor": 0,
       "model_id": "4e3734da862e4bd9847febcb7b767f65"
      }
     },
     "metadata": {},
     "output_type": "display_data"
    },
    {
     "name": "stderr",
     "output_type": "stream",
     "text": [
      "PartitionExplainer explainer:  66%|██████▌   | 155/234 [1:00:45<30:24, 23.10s/it]"
     ]
    },
    {
     "data": {
      "text/plain": "  0%|          | 0/498 [00:00<?, ?it/s]",
      "application/vnd.jupyter.widget-view+json": {
       "version_major": 2,
       "version_minor": 0,
       "model_id": "07750bf45b1e4fb1b063b96b61e80dce"
      }
     },
     "metadata": {},
     "output_type": "display_data"
    },
    {
     "name": "stderr",
     "output_type": "stream",
     "text": [
      "PartitionExplainer explainer:  67%|██████▋   | 156/234 [1:01:08<30:00, 23.08s/it]"
     ]
    },
    {
     "data": {
      "text/plain": "  0%|          | 0/498 [00:00<?, ?it/s]",
      "application/vnd.jupyter.widget-view+json": {
       "version_major": 2,
       "version_minor": 0,
       "model_id": "8bc16101185c44d8b2927fda366a24b7"
      }
     },
     "metadata": {},
     "output_type": "display_data"
    },
    {
     "name": "stderr",
     "output_type": "stream",
     "text": [
      "PartitionExplainer explainer:  67%|██████▋   | 157/234 [1:01:31<29:39, 23.11s/it]"
     ]
    },
    {
     "data": {
      "text/plain": "  0%|          | 0/498 [00:00<?, ?it/s]",
      "application/vnd.jupyter.widget-view+json": {
       "version_major": 2,
       "version_minor": 0,
       "model_id": "6e88a185897c4b35990c33e82744c54f"
      }
     },
     "metadata": {},
     "output_type": "display_data"
    },
    {
     "name": "stderr",
     "output_type": "stream",
     "text": [
      "PartitionExplainer explainer:  68%|██████▊   | 158/234 [1:01:54<29:14, 23.08s/it]"
     ]
    },
    {
     "data": {
      "text/plain": "  0%|          | 0/498 [00:00<?, ?it/s]",
      "application/vnd.jupyter.widget-view+json": {
       "version_major": 2,
       "version_minor": 0,
       "model_id": "04ca9eb2da414d64aaa0913e3feb2489"
      }
     },
     "metadata": {},
     "output_type": "display_data"
    },
    {
     "name": "stderr",
     "output_type": "stream",
     "text": [
      "PartitionExplainer explainer:  68%|██████▊   | 159/234 [1:02:17<28:48, 23.05s/it]"
     ]
    },
    {
     "data": {
      "text/plain": "  0%|          | 0/498 [00:00<?, ?it/s]",
      "application/vnd.jupyter.widget-view+json": {
       "version_major": 2,
       "version_minor": 0,
       "model_id": "77d1918e46524ada87ea2037d4bfec7e"
      }
     },
     "metadata": {},
     "output_type": "display_data"
    },
    {
     "name": "stderr",
     "output_type": "stream",
     "text": [
      "PartitionExplainer explainer:  68%|██████▊   | 160/234 [1:02:40<28:23, 23.02s/it]"
     ]
    },
    {
     "data": {
      "text/plain": "  0%|          | 0/498 [00:00<?, ?it/s]",
      "application/vnd.jupyter.widget-view+json": {
       "version_major": 2,
       "version_minor": 0,
       "model_id": "56fffdf31c9b4b519a7660c46f353f33"
      }
     },
     "metadata": {},
     "output_type": "display_data"
    },
    {
     "name": "stderr",
     "output_type": "stream",
     "text": [
      "PartitionExplainer explainer:  69%|██████▉   | 161/234 [1:03:03<27:59, 23.01s/it]"
     ]
    },
    {
     "data": {
      "text/plain": "  0%|          | 0/498 [00:00<?, ?it/s]",
      "application/vnd.jupyter.widget-view+json": {
       "version_major": 2,
       "version_minor": 0,
       "model_id": "4d09aeb405b34c668e7286bd4af75237"
      }
     },
     "metadata": {},
     "output_type": "display_data"
    },
    {
     "name": "stderr",
     "output_type": "stream",
     "text": [
      "PartitionExplainer explainer:  69%|██████▉   | 162/234 [1:03:26<27:35, 23.00s/it]"
     ]
    },
    {
     "data": {
      "text/plain": "  0%|          | 0/498 [00:00<?, ?it/s]",
      "application/vnd.jupyter.widget-view+json": {
       "version_major": 2,
       "version_minor": 0,
       "model_id": "65cee17630954b72bccc55b6a112cfe5"
      }
     },
     "metadata": {},
     "output_type": "display_data"
    },
    {
     "name": "stderr",
     "output_type": "stream",
     "text": [
      "PartitionExplainer explainer:  70%|██████▉   | 163/234 [1:03:49<27:15, 23.04s/it]"
     ]
    },
    {
     "data": {
      "text/plain": "  0%|          | 0/498 [00:00<?, ?it/s]",
      "application/vnd.jupyter.widget-view+json": {
       "version_major": 2,
       "version_minor": 0,
       "model_id": "71f96bc7f37845a197cbace14db7cc0e"
      }
     },
     "metadata": {},
     "output_type": "display_data"
    },
    {
     "name": "stderr",
     "output_type": "stream",
     "text": [
      "PartitionExplainer explainer:  70%|███████   | 164/234 [1:04:12<26:54, 23.06s/it]"
     ]
    },
    {
     "data": {
      "text/plain": "  0%|          | 0/498 [00:00<?, ?it/s]",
      "application/vnd.jupyter.widget-view+json": {
       "version_major": 2,
       "version_minor": 0,
       "model_id": "46972d6e93a2488dbbdaa32496a7c007"
      }
     },
     "metadata": {},
     "output_type": "display_data"
    },
    {
     "name": "stderr",
     "output_type": "stream",
     "text": [
      "PartitionExplainer explainer:  71%|███████   | 165/234 [1:04:35<26:30, 23.05s/it]"
     ]
    },
    {
     "data": {
      "text/plain": "  0%|          | 0/498 [00:00<?, ?it/s]",
      "application/vnd.jupyter.widget-view+json": {
       "version_major": 2,
       "version_minor": 0,
       "model_id": "343d2c17e59d495f9a3354390f0a193b"
      }
     },
     "metadata": {},
     "output_type": "display_data"
    },
    {
     "name": "stderr",
     "output_type": "stream",
     "text": [
      "PartitionExplainer explainer:  71%|███████   | 166/234 [1:04:58<26:06, 23.04s/it]"
     ]
    },
    {
     "data": {
      "text/plain": "  0%|          | 0/498 [00:00<?, ?it/s]",
      "application/vnd.jupyter.widget-view+json": {
       "version_major": 2,
       "version_minor": 0,
       "model_id": "aa7bba5bbce345ee9a064a73ef152768"
      }
     },
     "metadata": {},
     "output_type": "display_data"
    },
    {
     "name": "stderr",
     "output_type": "stream",
     "text": [
      "PartitionExplainer explainer:  71%|███████▏  | 167/234 [1:05:22<25:44, 23.06s/it]"
     ]
    },
    {
     "data": {
      "text/plain": "  0%|          | 0/498 [00:00<?, ?it/s]",
      "application/vnd.jupyter.widget-view+json": {
       "version_major": 2,
       "version_minor": 0,
       "model_id": "73146491924e4b049aa983e449608cba"
      }
     },
     "metadata": {},
     "output_type": "display_data"
    },
    {
     "name": "stderr",
     "output_type": "stream",
     "text": [
      "PartitionExplainer explainer:  72%|███████▏  | 168/234 [1:05:44<25:18, 23.01s/it]"
     ]
    },
    {
     "data": {
      "text/plain": "  0%|          | 0/498 [00:00<?, ?it/s]",
      "application/vnd.jupyter.widget-view+json": {
       "version_major": 2,
       "version_minor": 0,
       "model_id": "a90639e940a84ce1894eafd4ed4dddd6"
      }
     },
     "metadata": {},
     "output_type": "display_data"
    },
    {
     "name": "stderr",
     "output_type": "stream",
     "text": [
      "PartitionExplainer explainer:  72%|███████▏  | 169/234 [1:06:07<24:54, 22.99s/it]"
     ]
    },
    {
     "data": {
      "text/plain": "  0%|          | 0/498 [00:00<?, ?it/s]",
      "application/vnd.jupyter.widget-view+json": {
       "version_major": 2,
       "version_minor": 0,
       "model_id": "cbbcb0353cce4838b4c4f1b3fba44cf0"
      }
     },
     "metadata": {},
     "output_type": "display_data"
    },
    {
     "name": "stderr",
     "output_type": "stream",
     "text": [
      "PartitionExplainer explainer:  73%|███████▎  | 170/234 [1:06:31<24:34, 23.04s/it]"
     ]
    },
    {
     "data": {
      "text/plain": "  0%|          | 0/498 [00:00<?, ?it/s]",
      "application/vnd.jupyter.widget-view+json": {
       "version_major": 2,
       "version_minor": 0,
       "model_id": "ac2cee560b984471bb7257fc64156410"
      }
     },
     "metadata": {},
     "output_type": "display_data"
    },
    {
     "name": "stderr",
     "output_type": "stream",
     "text": [
      "PartitionExplainer explainer:  73%|███████▎  | 171/234 [1:06:54<24:11, 23.04s/it]"
     ]
    },
    {
     "data": {
      "text/plain": "  0%|          | 0/498 [00:00<?, ?it/s]",
      "application/vnd.jupyter.widget-view+json": {
       "version_major": 2,
       "version_minor": 0,
       "model_id": "2ba38152e97945a3a09842478518f401"
      }
     },
     "metadata": {},
     "output_type": "display_data"
    },
    {
     "name": "stderr",
     "output_type": "stream",
     "text": [
      "PartitionExplainer explainer:  74%|███████▎  | 172/234 [1:07:17<23:48, 23.05s/it]"
     ]
    },
    {
     "data": {
      "text/plain": "  0%|          | 0/498 [00:00<?, ?it/s]",
      "application/vnd.jupyter.widget-view+json": {
       "version_major": 2,
       "version_minor": 0,
       "model_id": "97d3a54de2114c1eb8ea8cde6f0cc840"
      }
     },
     "metadata": {},
     "output_type": "display_data"
    },
    {
     "name": "stderr",
     "output_type": "stream",
     "text": [
      "PartitionExplainer explainer:  74%|███████▍  | 173/234 [1:07:40<23:22, 23.00s/it]"
     ]
    },
    {
     "data": {
      "text/plain": "  0%|          | 0/498 [00:00<?, ?it/s]",
      "application/vnd.jupyter.widget-view+json": {
       "version_major": 2,
       "version_minor": 0,
       "model_id": "1c1b3d548f5f4d58b02dbc759d9f9cff"
      }
     },
     "metadata": {},
     "output_type": "display_data"
    },
    {
     "name": "stderr",
     "output_type": "stream",
     "text": [
      "PartitionExplainer explainer:  74%|███████▍  | 174/234 [1:08:03<22:59, 23.00s/it]"
     ]
    },
    {
     "data": {
      "text/plain": "  0%|          | 0/498 [00:00<?, ?it/s]",
      "application/vnd.jupyter.widget-view+json": {
       "version_major": 2,
       "version_minor": 0,
       "model_id": "f771d0d069de449b881fb41d15c32ce7"
      }
     },
     "metadata": {},
     "output_type": "display_data"
    },
    {
     "name": "stderr",
     "output_type": "stream",
     "text": [
      "PartitionExplainer explainer:  75%|███████▍  | 175/234 [1:08:26<22:39, 23.03s/it]"
     ]
    },
    {
     "data": {
      "text/plain": "  0%|          | 0/498 [00:00<?, ?it/s]",
      "application/vnd.jupyter.widget-view+json": {
       "version_major": 2,
       "version_minor": 0,
       "model_id": "8e7b9be9312246d7842763f57676759e"
      }
     },
     "metadata": {},
     "output_type": "display_data"
    },
    {
     "name": "stderr",
     "output_type": "stream",
     "text": [
      "PartitionExplainer explainer:  75%|███████▌  | 176/234 [1:08:49<22:17, 23.07s/it]"
     ]
    },
    {
     "data": {
      "text/plain": "  0%|          | 0/498 [00:00<?, ?it/s]",
      "application/vnd.jupyter.widget-view+json": {
       "version_major": 2,
       "version_minor": 0,
       "model_id": "347ca8b3098f4653ad22f1f28a9faa07"
      }
     },
     "metadata": {},
     "output_type": "display_data"
    },
    {
     "name": "stderr",
     "output_type": "stream",
     "text": [
      "PartitionExplainer explainer:  76%|███████▌  | 177/234 [1:09:12<21:56, 23.09s/it]"
     ]
    },
    {
     "data": {
      "text/plain": "  0%|          | 0/498 [00:00<?, ?it/s]",
      "application/vnd.jupyter.widget-view+json": {
       "version_major": 2,
       "version_minor": 0,
       "model_id": "560e4c3d49074a94b6a94275a5eb8bcf"
      }
     },
     "metadata": {},
     "output_type": "display_data"
    },
    {
     "name": "stderr",
     "output_type": "stream",
     "text": [
      "PartitionExplainer explainer:  76%|███████▌  | 178/234 [1:09:35<21:32, 23.08s/it]"
     ]
    },
    {
     "data": {
      "text/plain": "  0%|          | 0/498 [00:00<?, ?it/s]",
      "application/vnd.jupyter.widget-view+json": {
       "version_major": 2,
       "version_minor": 0,
       "model_id": "3ff3054380f146e5972c6e083ea7232e"
      }
     },
     "metadata": {},
     "output_type": "display_data"
    },
    {
     "name": "stderr",
     "output_type": "stream",
     "text": [
      "PartitionExplainer explainer:  76%|███████▋  | 179/234 [1:09:58<21:04, 22.99s/it]"
     ]
    },
    {
     "data": {
      "text/plain": "  0%|          | 0/498 [00:00<?, ?it/s]",
      "application/vnd.jupyter.widget-view+json": {
       "version_major": 2,
       "version_minor": 0,
       "model_id": "094e9cd7d0674c7ea77811c47ffd3376"
      }
     },
     "metadata": {},
     "output_type": "display_data"
    },
    {
     "name": "stderr",
     "output_type": "stream",
     "text": [
      "PartitionExplainer explainer:  77%|███████▋  | 180/234 [1:10:18<19:55, 22.14s/it]"
     ]
    },
    {
     "data": {
      "text/plain": "  0%|          | 0/498 [00:00<?, ?it/s]",
      "application/vnd.jupyter.widget-view+json": {
       "version_major": 2,
       "version_minor": 0,
       "model_id": "bdc2ca43467b4a47a47f91798286fe97"
      }
     },
     "metadata": {},
     "output_type": "display_data"
    },
    {
     "name": "stderr",
     "output_type": "stream",
     "text": [
      "PartitionExplainer explainer:  77%|███████▋  | 181/234 [1:10:38<19:03, 21.58s/it]"
     ]
    },
    {
     "data": {
      "text/plain": "  0%|          | 0/498 [00:00<?, ?it/s]",
      "application/vnd.jupyter.widget-view+json": {
       "version_major": 2,
       "version_minor": 0,
       "model_id": "25690336e35d47f691baa457ab45ef26"
      }
     },
     "metadata": {},
     "output_type": "display_data"
    },
    {
     "name": "stderr",
     "output_type": "stream",
     "text": [
      "PartitionExplainer explainer:  78%|███████▊  | 182/234 [1:10:59<18:27, 21.30s/it]"
     ]
    },
    {
     "data": {
      "text/plain": "  0%|          | 0/498 [00:00<?, ?it/s]",
      "application/vnd.jupyter.widget-view+json": {
       "version_major": 2,
       "version_minor": 0,
       "model_id": "a4c6b78141c14d26aa74a3a6b53a0d70"
      }
     },
     "metadata": {},
     "output_type": "display_data"
    },
    {
     "name": "stderr",
     "output_type": "stream",
     "text": [
      "PartitionExplainer explainer:  78%|███████▊  | 183/234 [1:11:19<17:55, 21.09s/it]"
     ]
    },
    {
     "data": {
      "text/plain": "  0%|          | 0/498 [00:00<?, ?it/s]",
      "application/vnd.jupyter.widget-view+json": {
       "version_major": 2,
       "version_minor": 0,
       "model_id": "9156ec7b7d6a4e46821636d5757c7e4c"
      }
     },
     "metadata": {},
     "output_type": "display_data"
    },
    {
     "name": "stderr",
     "output_type": "stream",
     "text": [
      "PartitionExplainer explainer:  79%|███████▊  | 184/234 [1:11:40<17:23, 20.88s/it]"
     ]
    },
    {
     "data": {
      "text/plain": "  0%|          | 0/498 [00:00<?, ?it/s]",
      "application/vnd.jupyter.widget-view+json": {
       "version_major": 2,
       "version_minor": 0,
       "model_id": "5811d823ead74ddfbf837314cfcc4c46"
      }
     },
     "metadata": {},
     "output_type": "display_data"
    },
    {
     "name": "stderr",
     "output_type": "stream",
     "text": [
      "PartitionExplainer explainer:  79%|███████▉  | 185/234 [1:12:00<16:56, 20.75s/it]"
     ]
    },
    {
     "data": {
      "text/plain": "  0%|          | 0/498 [00:00<?, ?it/s]",
      "application/vnd.jupyter.widget-view+json": {
       "version_major": 2,
       "version_minor": 0,
       "model_id": "c6fa556096e24f6b8993c22c960bc21a"
      }
     },
     "metadata": {},
     "output_type": "display_data"
    }
   ],
   "source": [
    "import random\n",
    "from pprint import pprint\n",
    "\n",
    "import scipy as sp\n",
    "import spacy\n",
    "import shap\n",
    "import torch\n",
    "import numpy as np\n",
    "import pandas as pd\n",
    "from transformers import BertTokenizer, BertForSequenceClassification\n",
    "import matplotlib.pyplot as plt\n",
    "\n",
    "from lib.utils import load_jsonl_file\n",
    "from lib.lexicons import neutral_nouns, neutral_adverbs, neutral_verbs, bias_words\n",
    "\n",
    "# nlp = spacy.load(\"en_core_web_trf\")\n",
    "\n",
    "# BATCH_SIZE = 16\n",
    "CLASS_NAMES = ['monologic', 'dialogic']\n",
    "\n",
    "# Load dataset\n",
    "DATASET = load_jsonl_file(\"shared_data/dataset_1_6_1b_test.jsonl\")\n",
    "speech_class = [data for data in DATASET if data[\"label\"] == \"monologic\"]\n",
    "interview_class = [data for data in DATASET if data[\"label\"] == \"dialogic\"]\n",
    "\n",
    "# Load mismatched datapoint\n",
    "mismatched_datapoints = load_jsonl_file(\"shared_data/dataset_1_8_2b_misclassified_examples.jsonl\")\n",
    "mismatched_datapoints = mismatched_datapoints[:1]\n",
    "\n",
    "\n",
    "def get_device():\n",
    "  \"\"\"Returns the appropriate device available in the system: CUDA, MPS, or CPU\"\"\"\n",
    "  if torch.backends.mps.is_available():\n",
    "    return torch.device(\"mps\")\n",
    "  elif torch.cuda.is_available():\n",
    "    return torch.device(\"cuda\")\n",
    "  else:\n",
    "    return torch.device(\"cpu\")\n",
    "\n",
    "\n",
    "# Set device\n",
    "device = get_device()\n",
    "print(f\"\\nUsing device: {str(device).upper()}\\n\")\n",
    "\n",
    "# Initialize constants\n",
    "BERT_MODEL = 'bert-base-uncased'\n",
    "# MODEL_PATH = 'models/1/paper_a_x_dl_bert_train_hop_bert.pth'\n",
    "MODEL_PATH = 'models/1/paper_a_bert_solo.pth'\n",
    "\n",
    "# Initialize tokenizer\n",
    "tokenizer = BertTokenizer.from_pretrained('bert-base-uncased')\n",
    "\n",
    "# Load the model\n",
    "model = BertForSequenceClassification.from_pretrained('bert-base-uncased',\n",
    "                                                      num_labels=len(CLASS_NAMES),\n",
    "                                                      hidden_dropout_prob=0.1)\n",
    "\n",
    "# Move the model to the device\n",
    "model = model.to(device)\n",
    "# Load the model weights\n",
    "model.load_state_dict(torch.load(MODEL_PATH, map_location=device))\n",
    "# Set the model to evaluation mode\n",
    "model.eval()\n",
    "\n",
    "\n",
    "def f(x):\n",
    "  tv = torch.tensor([tokenizer.encode(v, padding=\"max_length\", max_length=500, truncation=True) for v in x], device=device)\n",
    "  outputs = model(tv)[0].detach().cpu().numpy()\n",
    "  scores = (np.exp(outputs).T / np.exp(outputs).sum(-1)).T\n",
    "  val = sp.special.logit(scores[:, 1])  # use one vs rest logit units\n",
    "  return val\n",
    "\n",
    "\n",
    "# Initialize the SHAP explainer\n",
    "# explainer = shap.Explainer(f, tokenizer, output_names=[\"monologic\", \"dialogic\"])\n",
    "explainer = shap.Explainer(f, tokenizer)\n",
    "\n",
    "\"\"\"selected_texts = []\n",
    "for mismatch in mismatched_datapoints:\n",
    "  datapoint = None\n",
    "  for data in DATASET:\n",
    "    if data[\"id\"] == mismatch[\"id\"]:\n",
    "      selected_texts.append(data[\"text\"])\n",
    "      break\"\"\"\n",
    "\n",
    "texts = [data[\"text\"] for data in speech_class]\n",
    "# texts = [data[\"text\"] for data in interview_class]\n",
    "\n",
    "\n",
    "\"\"\"modified_tokens = []\n",
    "\n",
    "doc = nlp(text)\n",
    "\n",
    "# Replace bias words with neutral words\n",
    "for token in doc:\n",
    "  token_replaced = False\n",
    "  # print(token.text, token.pos_, token.tag_)\n",
    "  if token.lemma_ in bias_words and not token.is_stop and not token.is_punct:\n",
    "    if token.pos_ == \"NOUN\":\n",
    "      random_neutral_noun = random.choice(neutral_nouns)\n",
    "      modified_tokens.append(random_neutral_noun + token.whitespace_)\n",
    "      token_replaced = True\n",
    "      # print(random_neutral_noun)\n",
    "    elif token.pos_ == \"VERB\":\n",
    "      random_neutral_verb = random.choice(neutral_verbs)\n",
    "      modified_tokens.append(random_neutral_verb + token.whitespace_)\n",
    "      token_replaced = True\n",
    "    elif token.pos_ == \"ADV\":\n",
    "      random_neutral_adverb = random.choice(neutral_adverbs)\n",
    "      modified_tokens.append(random_neutral_adverb + token.whitespace_)\n",
    "      token_replaced = True\n",
    "  if not token_replaced:\n",
    "    modified_tokens.append(token.text_with_ws)\n",
    "\n",
    "modified_text = \"\".join(modified_tokens)\"\"\"\n",
    "\n",
    "# Compute SHAP values for the selected samples\n",
    "shap_values = explainer(texts, fixed_context=1)\n",
    "\n",
    "# Visualize the SHAP values\n",
    "# shap.plots.text(shap_values)\n",
    "\n",
    "shap.plots.bar(shap_values.abs.sum(0), max_display=100, show=False)\n",
    "# shap.plots.bar(shap_values.abs.max(0))\n",
    "\n",
    "summed_shap_values = shap_values.abs.mean(0).values\n",
    "summed_shap_features = shap_values.abs.mean(0).feature_names\n",
    "\n",
    "# Convert to DataFrame for easy CSV saving\n",
    "df_shap_values = pd.DataFrame(summed_shap_values, columns=[\"Value\"])\n",
    "\n",
    "# Add a column for the feature names if available\n",
    "df_shap_values[\"Feature\"] = summed_shap_features\n",
    "df_shap_values = df_shap_values.sort_values(by=\"Value\", ascending=False)\n",
    "\n",
    "# Save to CSV\n",
    "df_shap_values.to_csv(\"shared_data/dataset_1_9_speech_shap_features_plot_bar.csv\", index=False)\n",
    "\n",
    "# Save the plot PNG\n",
    "plt.savefig(\"images/paper_a_20_speech_shap_features_plot_bar.png\")\n"
   ]
  },
  {
   "cell_type": "code",
   "outputs": [],
   "source": [],
   "metadata": {
    "collapsed": false
   },
   "id": "b876d2069926e851"
  }
 ],
 "metadata": {
  "kernelspec": {
   "display_name": "Python 3 (ipykernel)",
   "language": "python",
   "name": "python3"
  },
  "language_info": {
   "codemirror_mode": {
    "name": "ipython",
    "version": 3
   },
   "file_extension": ".py",
   "mimetype": "text/x-python",
   "name": "python",
   "nbconvert_exporter": "python",
   "pygments_lexer": "ipython3",
   "version": "3.10.11"
  }
 },
 "nbformat": 4,
 "nbformat_minor": 5
}
